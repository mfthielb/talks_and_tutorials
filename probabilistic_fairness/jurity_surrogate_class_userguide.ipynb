{
 "cells": [
  {
   "cell_type": "markdown",
   "id": "8cd2fd7a-02c7-4402-a872-b074e7880571",
   "metadata": {},
   "source": [
    "# How to Use Surrogate Class Variables in Jurity 2.0.0"
   ]
  },
  {
   "cell_type": "markdown",
   "id": "322966bf-28a3-4141-821c-458d666fe0b6",
   "metadata": {},
   "source": [
    "# Testing for Fairness: How and Why?\n",
    "\n",
    "We want to ensure the model works for everyone, e.g. we want to ensure it has equal performance for green circles and blue squares. \n",
    "\n",
    "![fairness illustration](./supporting_files/jurity_unfairness_illustration.jpg)\n",
    "\n",
    "![fairness illustration](./supporting_files/fairness_eqn.jpg)\n",
    "\n",
    "We'd prefer bias=1.<br>\n",
    "Any model performance metric can be purposed as a bias metric.\n",
    "\n",
    "*Note there are far fewer blue squares than green circles. A performance metric that is calculated for the whole population may miss problems with the blue circle group."
   ]
  },
  {
   "cell_type": "markdown",
   "id": "dc2b3e76-377c-4dc5-aeda-64f5bc015721",
   "metadata": {},
   "source": [
    "## Why Surrogate Class?\n",
    "\n",
    "Many companies want to test their models for bias but do not collect sensitive data on their customers. Jurity 2.0.0 introduces fairness testing based on <i>probabilistic membership</i>. Instead of directly collecting sensitive data, modelers need only know the following:\n",
    "1. Each individual's membership in a <i>surrogate class</i>, a grouping variable that is present in the data.\n",
    "1. The probability of protected class membership for each surrogate class group."
   ]
  },
  {
   "cell_type": "code",
   "execution_count": 1,
   "id": "b00b861c-c1db-4702-8d26-d0b57a9472c6",
   "metadata": {},
   "outputs": [],
   "source": [
    "import pandas as pd"
   ]
  },
  {
   "cell_type": "code",
   "execution_count": 2,
   "id": "38da7d91-3023-4062-a5cd-15d18022c5c2",
   "metadata": {},
   "outputs": [
    {
     "name": "stdout",
     "output_type": "stream",
     "text": [
      "Hypothetical Surrogate Data, with Probabilities of Protected and Non-Protected Status\n",
      "Dimensions of Membership DataFrame:  (99, 2)\n"
     ]
    },
    {
     "data": {
      "text/html": [
       "<div>\n",
       "<style scoped>\n",
       "    .dataframe tbody tr th:only-of-type {\n",
       "        vertical-align: middle;\n",
       "    }\n",
       "\n",
       "    .dataframe tbody tr th {\n",
       "        vertical-align: top;\n",
       "    }\n",
       "\n",
       "    .dataframe thead th {\n",
       "        text-align: right;\n",
       "    }\n",
       "</style>\n",
       "<table border=\"1\" class=\"dataframe\">\n",
       "  <thead>\n",
       "    <tr style=\"text-align: right;\">\n",
       "      <th></th>\n",
       "      <th>NP</th>\n",
       "      <th>P</th>\n",
       "    </tr>\n",
       "    <tr>\n",
       "      <th>surrogate</th>\n",
       "      <th></th>\n",
       "      <th></th>\n",
       "    </tr>\n",
       "  </thead>\n",
       "  <tbody>\n",
       "    <tr>\n",
       "      <th>0</th>\n",
       "      <td>0.361378</td>\n",
       "      <td>0.638622</td>\n",
       "    </tr>\n",
       "    <tr>\n",
       "      <th>1</th>\n",
       "      <td>0.836539</td>\n",
       "      <td>0.163461</td>\n",
       "    </tr>\n",
       "    <tr>\n",
       "      <th>2</th>\n",
       "      <td>0.983037</td>\n",
       "      <td>0.016963</td>\n",
       "    </tr>\n",
       "    <tr>\n",
       "      <th>3</th>\n",
       "      <td>0.529437</td>\n",
       "      <td>0.470563</td>\n",
       "    </tr>\n",
       "    <tr>\n",
       "      <th>4</th>\n",
       "      <td>0.802548</td>\n",
       "      <td>0.197452</td>\n",
       "    </tr>\n",
       "  </tbody>\n",
       "</table>\n",
       "</div>"
      ],
      "text/plain": [
       "                 NP         P\n",
       "surrogate                    \n",
       "0          0.361378  0.638622\n",
       "1          0.836539  0.163461\n",
       "2          0.983037  0.016963\n",
       "3          0.529437  0.470563\n",
       "4          0.802548  0.197452"
      ]
     },
     "execution_count": 2,
     "metadata": {},
     "output_type": "execute_result"
    }
   ],
   "source": [
    "memberships=pd.read_csv('./supporting_files/surrogate_classes.csv').set_index(\"surrogate\")\n",
    "memberships[\"P\"]=1-memberships[\"NP\"]\n",
    "print(\"Hypothetical Surrogate Data, with Probabilities of Protected and Non-Protected Status\")\n",
    "print(\"Dimensions of Membership DataFrame: \",memberships.shape)\n",
    "memberships.head()"
   ]
  },
  {
   "cell_type": "code",
   "execution_count": 3,
   "id": "7959d29c-ebd4-4640-906d-dc56531a06db",
   "metadata": {},
   "outputs": [
    {
     "name": "stdout",
     "output_type": "stream",
     "text": [
      "Hypothetical Model Performance Data, label=actual outcome, prediction=predicted outcome'\n",
      "Dimensions of Performance DataFrame:  (9939, 3)\n"
     ]
    },
    {
     "data": {
      "text/html": [
       "<div>\n",
       "<style scoped>\n",
       "    .dataframe tbody tr th:only-of-type {\n",
       "        vertical-align: middle;\n",
       "    }\n",
       "\n",
       "    .dataframe tbody tr th {\n",
       "        vertical-align: top;\n",
       "    }\n",
       "\n",
       "    .dataframe thead th {\n",
       "        text-align: right;\n",
       "    }\n",
       "</style>\n",
       "<table border=\"1\" class=\"dataframe\">\n",
       "  <thead>\n",
       "    <tr style=\"text-align: right;\">\n",
       "      <th></th>\n",
       "      <th>surrogate</th>\n",
       "      <th>label</th>\n",
       "      <th>prediction</th>\n",
       "    </tr>\n",
       "  </thead>\n",
       "  <tbody>\n",
       "    <tr>\n",
       "      <th>0</th>\n",
       "      <td>0</td>\n",
       "      <td>0</td>\n",
       "      <td>0</td>\n",
       "    </tr>\n",
       "    <tr>\n",
       "      <th>1</th>\n",
       "      <td>0</td>\n",
       "      <td>1</td>\n",
       "      <td>0</td>\n",
       "    </tr>\n",
       "    <tr>\n",
       "      <th>2</th>\n",
       "      <td>0</td>\n",
       "      <td>0</td>\n",
       "      <td>0</td>\n",
       "    </tr>\n",
       "    <tr>\n",
       "      <th>3</th>\n",
       "      <td>0</td>\n",
       "      <td>0</td>\n",
       "      <td>0</td>\n",
       "    </tr>\n",
       "    <tr>\n",
       "      <th>4</th>\n",
       "      <td>0</td>\n",
       "      <td>0</td>\n",
       "      <td>0</td>\n",
       "    </tr>\n",
       "  </tbody>\n",
       "</table>\n",
       "</div>"
      ],
      "text/plain": [
       "   surrogate  label  prediction\n",
       "0          0      0           0\n",
       "1          0      1           0\n",
       "2          0      0           0\n",
       "3          0      0           0\n",
       "4          0      0           0"
      ]
     },
     "execution_count": 3,
     "metadata": {},
     "output_type": "execute_result"
    }
   ],
   "source": [
    "performance_data=pd.read_csv('./supporting_files/predictions.csv')\n",
    "print(\"Hypothetical Model Performance Data, label=actual outcome, prediction=predicted outcome'\")\n",
    "print(\"Dimensions of Performance DataFrame: \",performance_data.shape)\n",
    "performance_data.head()"
   ]
  },
  {
   "cell_type": "markdown",
   "id": "caa62f0c-bedf-4daf-8e66-a308d6ebbfbf",
   "metadata": {},
   "source": [
    "The technical details of the method are described in:\n",
    "\n",
    "Thielbar, Melinda, Serdar Kadioglu, Chenhui Zhang, Rick Pack, and Lukas Dannull (2023) \"Surrogate Membership for Inferred Metrics in Fairness Evaluation.\" Presented at the Learning and Intelligent Optimization Conference 2023. Nice, France. Session Chair Laurens Black., published in the conference proceedings from the <a href=\"https://lion17.org\">Learning and Intelligent Optimization (LION) Conference 2023</a>. \n",
    "\n",
    "For the purposes of this talk, the relevant details are:\n",
    "- Jurity does not attempt to \"predict\" protected membership for individuals. It only requires that we have an estimate of the probability by surrogate class.\n",
    "- The surrogate variable and class membership don't have to be strongly correlated: There may be many levels of the surrogate variable where the probabilities are evenly split.\n",
    "- Calculations are more stable if there are more levels of the surrogate class.\n",
    "- Calculations are more stable if there are more individuals per level of the surrogate class. "
   ]
  },
  {
   "cell_type": "markdown",
   "id": "5799f172-137f-4719-8ca5-0b61095d1a63",
   "metadata": {},
   "source": [
    "## Calculating One Metric"
   ]
  },
  {
   "cell_type": "code",
   "execution_count": 4,
   "id": "9870fe9b-2d2b-4a04-bd9e-c3b13e4f97a8",
   "metadata": {},
   "outputs": [],
   "source": [
    "#!pip install jurity"
   ]
  },
  {
   "cell_type": "code",
   "execution_count": 5,
   "id": "9984215c-160b-4df6-9410-37a54a8db5a7",
   "metadata": {},
   "outputs": [],
   "source": [
    "from jurity.fairness import BinaryFairnessMetrics"
   ]
  },
  {
   "cell_type": "code",
   "execution_count": 22,
   "id": "9f310f2e-cc9f-4ba5-9ee9-10dc3d982f8a",
   "metadata": {},
   "outputs": [
    {
     "name": "stdout",
     "output_type": "stream",
     "text": [
      "There are 9939 in performance_data.\n",
      "There are 99 in surrogate data.\n",
      "0 rows removed from datafame for insufficient weight values\n",
      "Binary Fairness score, Statistical Parity:  0.054664891138672844\n"
     ]
    },
    {
     "name": "stderr",
     "output_type": "stream",
     "text": [
      "/Users/a626300/Library/Python/3.9/lib/python/site-packages/jurity/utils_proba.py:694: UserWarning: Recommended minimum count for surrogate class is 5. Minimum weights of less than 5 will give unstable results.\n",
      "  warnings.warn(\"Recommended minimum count for surrogate class is 5. \"\n"
     ]
    }
   ],
   "source": [
    "metric = BinaryFairnessMetrics.StatisticalParity()\n",
    "\n",
    "# Surrogate membership: consider access to surrogate membership at the group level. \n",
    "print(\"Binary Fairness score, Statistical Parity: \", \n",
    "      metric.get_score(performance_data[\"prediction\"], memberships, performance_data[\"surrogate\"]))"
   ]
  },
  {
   "cell_type": "markdown",
   "id": "649c2e24-88f4-4062-9bca-30fd11504e70",
   "metadata": {},
   "source": [
    "Statistical Parity: The difference in the probability of a positive prediction between the protected group and the comparison group.<br>\n",
    "Acceptable range; (-0.20,0.20)<br>\n",
    "Decision: Model is not unfair, according to Statistical Parity"
   ]
  },
  {
   "cell_type": "markdown",
   "id": "0ffcd556-bb08-43f7-8fc5-70f55f5c32c9",
   "metadata": {},
   "source": [
    "## How Does It Work?\n",
    "\n",
    "Premise: If the model is fair, then group-wise predictions shouldn't vary by how many people from the protected group are present in the surroagate group. So, we calculate how much the predictions change as the proportion of protected-group individuals changes. \n",
    "- Each surrogate group will have some performance difference, but it should be random, not systematic.\n",
    "- i.e. If you graph performance vs protected membership, you shouldn't see performance decrease systematically as the percent of protected individuals increases."
   ]
  },
  {
   "cell_type": "code",
   "execution_count": 7,
   "id": "ca939ef5-087b-4a16-bb3f-243e32a06055",
   "metadata": {},
   "outputs": [
    {
     "name": "stdout",
     "output_type": "stream",
     "text": [
      "There are 9939 in performance_data.\n",
      "There are 99 in surrogate data.\n",
      "This is the DataFrame that Jurity Uses to Calculate Bias Metrics\n"
     ]
    },
    {
     "data": {
      "text/html": [
       "<div>\n",
       "<style scoped>\n",
       "    .dataframe tbody tr th:only-of-type {\n",
       "        vertical-align: middle;\n",
       "    }\n",
       "\n",
       "    .dataframe tbody tr th {\n",
       "        vertical-align: top;\n",
       "    }\n",
       "\n",
       "    .dataframe thead th {\n",
       "        text-align: right;\n",
       "    }\n",
       "</style>\n",
       "<table border=\"1\" class=\"dataframe\">\n",
       "  <thead>\n",
       "    <tr style=\"text-align: right;\">\n",
       "      <th></th>\n",
       "      <th>prediction_ratio</th>\n",
       "      <th>count</th>\n",
       "      <th>surrogates</th>\n",
       "      <th>NP</th>\n",
       "      <th>P</th>\n",
       "    </tr>\n",
       "    <tr>\n",
       "      <th>surrogates</th>\n",
       "      <th></th>\n",
       "      <th></th>\n",
       "      <th></th>\n",
       "      <th></th>\n",
       "      <th></th>\n",
       "    </tr>\n",
       "  </thead>\n",
       "  <tbody>\n",
       "    <tr>\n",
       "      <th>0</th>\n",
       "      <td>0.265060</td>\n",
       "      <td>83</td>\n",
       "      <td>0</td>\n",
       "      <td>0.361378</td>\n",
       "      <td>0.638622</td>\n",
       "    </tr>\n",
       "    <tr>\n",
       "      <th>1</th>\n",
       "      <td>0.233010</td>\n",
       "      <td>103</td>\n",
       "      <td>1</td>\n",
       "      <td>0.836539</td>\n",
       "      <td>0.163461</td>\n",
       "    </tr>\n",
       "    <tr>\n",
       "      <th>2</th>\n",
       "      <td>0.187500</td>\n",
       "      <td>96</td>\n",
       "      <td>2</td>\n",
       "      <td>0.983037</td>\n",
       "      <td>0.016963</td>\n",
       "    </tr>\n",
       "    <tr>\n",
       "      <th>3</th>\n",
       "      <td>0.229167</td>\n",
       "      <td>96</td>\n",
       "      <td>3</td>\n",
       "      <td>0.529437</td>\n",
       "      <td>0.470563</td>\n",
       "    </tr>\n",
       "    <tr>\n",
       "      <th>4</th>\n",
       "      <td>0.127451</td>\n",
       "      <td>102</td>\n",
       "      <td>4</td>\n",
       "      <td>0.802548</td>\n",
       "      <td>0.197452</td>\n",
       "    </tr>\n",
       "    <tr>\n",
       "      <th>...</th>\n",
       "      <td>...</td>\n",
       "      <td>...</td>\n",
       "      <td>...</td>\n",
       "      <td>...</td>\n",
       "      <td>...</td>\n",
       "    </tr>\n",
       "    <tr>\n",
       "      <th>94</th>\n",
       "      <td>0.196429</td>\n",
       "      <td>112</td>\n",
       "      <td>94</td>\n",
       "      <td>0.784025</td>\n",
       "      <td>0.215975</td>\n",
       "    </tr>\n",
       "    <tr>\n",
       "      <th>95</th>\n",
       "      <td>0.241071</td>\n",
       "      <td>112</td>\n",
       "      <td>95</td>\n",
       "      <td>0.250000</td>\n",
       "      <td>0.750000</td>\n",
       "    </tr>\n",
       "    <tr>\n",
       "      <th>96</th>\n",
       "      <td>0.271930</td>\n",
       "      <td>114</td>\n",
       "      <td>96</td>\n",
       "      <td>0.470705</td>\n",
       "      <td>0.529295</td>\n",
       "    </tr>\n",
       "    <tr>\n",
       "      <th>97</th>\n",
       "      <td>0.120370</td>\n",
       "      <td>108</td>\n",
       "      <td>97</td>\n",
       "      <td>0.952528</td>\n",
       "      <td>0.047472</td>\n",
       "    </tr>\n",
       "    <tr>\n",
       "      <th>98</th>\n",
       "      <td>0.173077</td>\n",
       "      <td>104</td>\n",
       "      <td>98</td>\n",
       "      <td>0.974948</td>\n",
       "      <td>0.025052</td>\n",
       "    </tr>\n",
       "  </tbody>\n",
       "</table>\n",
       "<p>99 rows × 5 columns</p>\n",
       "</div>"
      ],
      "text/plain": [
       "            prediction_ratio  count  surrogates        NP         P\n",
       "surrogates                                                         \n",
       "0                   0.265060     83           0  0.361378  0.638622\n",
       "1                   0.233010    103           1  0.836539  0.163461\n",
       "2                   0.187500     96           2  0.983037  0.016963\n",
       "3                   0.229167     96           3  0.529437  0.470563\n",
       "4                   0.127451    102           4  0.802548  0.197452\n",
       "...                      ...    ...         ...       ...       ...\n",
       "94                  0.196429    112          94  0.784025  0.215975\n",
       "95                  0.241071    112          95  0.250000  0.750000\n",
       "96                  0.271930    114          96  0.470705  0.529295\n",
       "97                  0.120370    108          97  0.952528  0.047472\n",
       "98                  0.173077    104          98  0.974948  0.025052\n",
       "\n",
       "[99 rows x 5 columns]"
      ]
     },
     "execution_count": 7,
     "metadata": {},
     "output_type": "execute_result"
    }
   ],
   "source": [
    "#I'll explain this code in a minute. \n",
    "\n",
    "from jurity.utils_proba import SummaryData\n",
    "\n",
    "summarized_df=SummaryData.summarize(performance_data['prediction'], memberships, performance_data['surrogate'],\n",
    "                                    None, performance_data.columns)\n",
    "print(\"This is the DataFrame that Jurity Uses to Calculate Bias Metrics\")\n",
    "summarized_df"
   ]
  },
  {
   "cell_type": "code",
   "execution_count": 8,
   "id": "d820c4b8-4756-4440-8845-7dc17ab28623",
   "metadata": {},
   "outputs": [],
   "source": [
    "import seaborn"
   ]
  },
  {
   "cell_type": "code",
   "execution_count": 9,
   "id": "807ed461-9f72-4b23-b146-e79378781587",
   "metadata": {},
   "outputs": [
    {
     "data": {
      "text/plain": [
       "<Axes: xlabel='P', ylabel='prediction_ratio'>"
      ]
     },
     "execution_count": 9,
     "metadata": {},
     "output_type": "execute_result"
    },
    {
     "data": {
      "image/png": "[encoded data removed]",
      "text/plain": [
       "<Figure size 640x480 with 1 Axes>"
      ]
     },
     "metadata": {},
     "output_type": "display_data"
    }
   ],
   "source": [
    "seaborn.regplot(data=summarized_df,x=\"P\",y=\"prediction_ratio\")"
   ]
  },
  {
   "cell_type": "markdown",
   "id": "8dfedb27-7258-4dc4-9391-aee790eeef4f",
   "metadata": {},
   "source": [
    "## How Do We Know it Works?"
   ]
  },
  {
   "cell_type": "markdown",
   "id": "c3304513-850b-4557-8899-fb9ec84c8a02",
   "metadata": {},
   "source": [
    "### Tests on Simulated Data\n",
    "![Graphs From Simulations](./supporting_files/simulation_graphs.png)"
   ]
  },
  {
   "cell_type": "markdown",
   "id": "7d225ea8-63a6-42c2-84ce-a93cf74c67e2",
   "metadata": {},
   "source": [
    "Note: There's a BIG ERROR in these pictures. It doesn't change the conclusion, but it is really embarrassing once you see it. Can you spot it? "
   ]
  },
  {
   "cell_type": "markdown",
   "id": "1bd417fe-2a98-4459-a92c-fb82c8b81c92",
   "metadata": {
    "jp-MarkdownHeadingCollapsed": true
   },
   "source": [
    "## Tests on Actual Data: Home Mortgate Disclosure Act 2018\n",
    "\n",
    "The Home Mortgate Disclosure Act data is an open data file that contains mortgate originations, along with predictive features and the race of each individual. To test our model, we used the following steps:\n",
    "1. Build a binary classifier for who received a mortgage.\n",
    "1. Calculate fairness metrics using stated race (Oracle metric)\n",
    "1. Calculate inferred metrics using zip code as our surrogate and US Census data to get probability for protected status (non-white) vs White. \n",
    "\n",
    "| Fairness Metric | Oracle Value | Inferred Value | Absolute Difference|\n",
    "| --- | -: | -: | -: |\n",
    "| Statistical Parity | -0.166 | -0.19 | 0.024 |\n",
    "| Equal Opportunity | -0.085 | -0.110 | 0.025 |\n",
    "| Predictive Equality | -0.102 | -0.094 | 0.008 |\n",
    "| Average Odds | -0.093 | -0.102 | 0.007 |"
   ]
  },
  {
   "cell_type": "markdown",
   "id": "50621998-1f6e-4b68-ba0b-11d3f2ef66bd",
   "metadata": {},
   "source": [
    "## How is Probabilistic Fairness Different From What We Had Before?\n",
    "The membership vector determines which type of fairness you're calculating. <br>\n",
    "$membership=[0,1,0,0,...1]=>$ Deterministic fairness (we know for certain whether each person is in the protected group).<br>\n",
    "$membership=[[0.1,0.9],[0.5,0.4],[0.7,0.3]...[0.0,1.0]] =>$ Probabilistic fairness. We have a probability of protected membership for each individual. <br>\n",
    "\n",
    "For probabilistic fairness:\n",
    "- membership must be a 2-D array or list. \n",
    "- The probabilities in membership must sum to 1. "
   ]
  },
  {
   "cell_type": "markdown",
   "id": "dd1cec03-7bfc-4682-acac-b4ee28a8d95d",
   "metadata": {},
   "source": [
    "# What if I don't have a surrogate class?\n",
    "\n",
    "Suppose we have a model that calculations the probability of protected membership but no surrogate class?"
   ]
  },
  {
   "cell_type": "code",
   "execution_count": 21,
   "id": "00ffcc25-cd2f-4849-bceb-87c4d57226fd",
   "metadata": {},
   "outputs": [
    {
     "name": "stdout",
     "output_type": "stream",
     "text": [
      "(8736, 2)\n"
     ]
    },
    {
     "data": {
      "text/html": [
       "<div>\n",
       "<style scoped>\n",
       "    .dataframe tbody tr th:only-of-type {\n",
       "        vertical-align: middle;\n",
       "    }\n",
       "\n",
       "    .dataframe tbody tr th {\n",
       "        vertical-align: top;\n",
       "    }\n",
       "\n",
       "    .dataframe thead th {\n",
       "        text-align: right;\n",
       "    }\n",
       "</style>\n",
       "<table border=\"1\" class=\"dataframe\">\n",
       "  <thead>\n",
       "    <tr style=\"text-align: right;\">\n",
       "      <th></th>\n",
       "      <th>UP</th>\n",
       "      <th>P</th>\n",
       "    </tr>\n",
       "  </thead>\n",
       "  <tbody>\n",
       "    <tr>\n",
       "      <th>0</th>\n",
       "      <td>0.217073</td>\n",
       "      <td>0.782927</td>\n",
       "    </tr>\n",
       "    <tr>\n",
       "      <th>1</th>\n",
       "      <td>0.217073</td>\n",
       "      <td>0.782927</td>\n",
       "    </tr>\n",
       "    <tr>\n",
       "      <th>2</th>\n",
       "      <td>0.217073</td>\n",
       "      <td>0.782927</td>\n",
       "    </tr>\n",
       "    <tr>\n",
       "      <th>3</th>\n",
       "      <td>0.217073</td>\n",
       "      <td>0.782927</td>\n",
       "    </tr>\n",
       "    <tr>\n",
       "      <th>4</th>\n",
       "      <td>0.217073</td>\n",
       "      <td>0.782927</td>\n",
       "    </tr>\n",
       "  </tbody>\n",
       "</table>\n",
       "</div>"
      ],
      "text/plain": [
       "         UP         P\n",
       "0  0.217073  0.782927\n",
       "1  0.217073  0.782927\n",
       "2  0.217073  0.782927\n",
       "3  0.217073  0.782927\n",
       "4  0.217073  0.782927"
      ]
     },
     "execution_count": 21,
     "metadata": {},
     "output_type": "execute_result"
    }
   ],
   "source": [
    "protected_predictions=pd.read_csv('~/Documents/data/jurity_tests/protected_predictions.csv')\n",
    "print(protected_predictions.shape)\n",
    "protected_predictions.head()"
   ]
  },
  {
   "cell_type": "markdown",
   "id": "2dec6877-c8f4-4931-a09d-14fac8024caa",
   "metadata": {},
   "source": [
    "You can still calculate fairness statistics. Jurity will do the following:\n",
    "1. Select the most likely group membership for each individual (argmax)\n",
    "1. Use deterministic fairness methodology to calculate statistics based on group assignments.\n",
    "\n",
    "*Note: Surrogate class statistics tend to be closer to the true values. See simulation studies."
   ]
  },
  {
   "cell_type": "code",
   "execution_count": null,
   "id": "95c8aa14-ede3-4e7f-8df3-fe5be70ecd4d",
   "metadata": {},
   "outputs": [],
   "source": [
    "membership_probs=protected_predictions.values.tolist()"
   ]
  },
  {
   "cell_type": "code",
   "execution_count": 17,
   "id": "781eb985-e00e-4dc3-9b70-7aa038f57730",
   "metadata": {},
   "outputs": [
    {
     "data": {
      "text/plain": [
       "9939"
      ]
     },
     "execution_count": 17,
     "metadata": {},
     "output_type": "execute_result"
    }
   ],
   "source": [
    "len(membership_probs)\n",
    "len(performance_data[\"prediction\"])"
   ]
  },
  {
   "cell_type": "code",
   "execution_count": 18,
   "id": "63e0d405-82b5-4261-8168-4140df0f405a",
   "metadata": {},
   "outputs": [
    {
     "ename": "InputShapeError",
     "evalue": "('', 'Shapes of inputs do not match. You supplied array lengths predictions: 9939, is_member: 8736.')",
     "output_type": "error",
     "traceback": [
      "\u001b[0;31m---------------------------------------------------------------------------\u001b[0m",
      "\u001b[0;31mInputShapeError\u001b[0m                           Traceback (most recent call last)",
      "Cell \u001b[0;32mIn[18], line 2\u001b[0m\n\u001b[1;32m      1\u001b[0m \u001b[38;5;28mprint\u001b[39m(\u001b[38;5;124m\"\u001b[39m\u001b[38;5;124mBinary Fairness score, Statistical Parity: \u001b[39m\u001b[38;5;124m\"\u001b[39m, \n\u001b[0;32m----> 2\u001b[0m       \u001b[43mmetric\u001b[49m\u001b[38;5;241;43m.\u001b[39;49m\u001b[43mget_score\u001b[49m\u001b[43m(\u001b[49m\u001b[43mperformance_data\u001b[49m\u001b[43m[\u001b[49m\u001b[38;5;124;43m\"\u001b[39;49m\u001b[38;5;124;43mprediction\u001b[39;49m\u001b[38;5;124;43m\"\u001b[39;49m\u001b[43m]\u001b[49m\u001b[43m,\u001b[49m\u001b[43m \u001b[49m\u001b[43mmembership_probs\u001b[49m\u001b[43m)\u001b[49m)\n",
      "File \u001b[0;32m~/Library/Python/3.9/lib/python/site-packages/jurity/fairness/statistical_parity.py:90\u001b[0m, in \u001b[0;36mBinaryStatisticalParity.get_score\u001b[0;34m(predictions, memberships, surrogates, membership_labels, bootstrap_results)\u001b[0m\n\u001b[1;32m     87\u001b[0m \u001b[38;5;66;03m# Standard deterministic calculation, unless bootstrap is given\u001b[39;00m\n\u001b[1;32m     88\u001b[0m \u001b[38;5;28;01mif\u001b[39;00m is_memberships_1d \u001b[38;5;129;01mand\u001b[39;00m bootstrap_results \u001b[38;5;129;01mis\u001b[39;00m \u001b[38;5;28;01mNone\u001b[39;00m:\n\u001b[1;32m     89\u001b[0m     \u001b[38;5;66;03m# Check input types and convert\u001b[39;00m\n\u001b[0;32m---> 90\u001b[0m     \u001b[43mcheck_inputs\u001b[49m\u001b[43m(\u001b[49m\u001b[43mpredictions\u001b[49m\u001b[43m,\u001b[49m\u001b[43m \u001b[49m\u001b[43mmemberships\u001b[49m\u001b[43m,\u001b[49m\u001b[43m \u001b[49m\u001b[43mmembership_labels\u001b[49m\u001b[43m)\u001b[49m\n\u001b[1;32m     91\u001b[0m     is_member \u001b[38;5;241m=\u001b[39m check_and_convert_list_types(memberships)\n\u001b[1;32m     92\u001b[0m     predictions \u001b[38;5;241m=\u001b[39m check_and_convert_list_types(predictions)\n",
      "File \u001b[0;32m~/Library/Python/3.9/lib/python/site-packages/jurity/utils.py:349\u001b[0m, in \u001b[0;36mcheck_inputs\u001b[0;34m(predictions, memberships, membership_labels, must_have_labels, labels, is_multi_class)\u001b[0m\n\u001b[1;32m    342\u001b[0m     check_true(\u001b[38;5;28mlen\u001b[39m(labels) \u001b[38;5;241m==\u001b[39m \u001b[38;5;28mlen\u001b[39m(predictions) \u001b[38;5;241m==\u001b[39m \u001b[38;5;28mlen\u001b[39m(memberships),\n\u001b[1;32m    343\u001b[0m                InputShapeError(\u001b[38;5;124m\"\u001b[39m\u001b[38;5;124m\"\u001b[39m,\n\u001b[1;32m    344\u001b[0m                                \u001b[38;5;124mf\u001b[39m\u001b[38;5;124m\"\u001b[39m\u001b[38;5;124mShapes of inputs do not match. \u001b[39m\u001b[38;5;124m\"\u001b[39m\n\u001b[1;32m    345\u001b[0m                                \u001b[38;5;124mf\u001b[39m\u001b[38;5;124m\"\u001b[39m\u001b[38;5;124myou supplied lengths of labels: \u001b[39m\u001b[38;5;124m\"\u001b[39m\n\u001b[1;32m    346\u001b[0m                                \u001b[38;5;124mf\u001b[39m\u001b[38;5;124m\"\u001b[39m\u001b[38;5;132;01m{\u001b[39;00m\u001b[38;5;28mlen\u001b[39m(labels)\u001b[38;5;132;01m}\u001b[39;00m\u001b[38;5;124m, predictions: \u001b[39m\u001b[38;5;132;01m{\u001b[39;00m\u001b[38;5;28mlen\u001b[39m(predictions)\u001b[38;5;132;01m}\u001b[39;00m\u001b[38;5;124m\"\u001b[39m\n\u001b[1;32m    347\u001b[0m                                \u001b[38;5;124mf\u001b[39m\u001b[38;5;124m\"\u001b[39m\u001b[38;5;124m, is_member: \u001b[39m\u001b[38;5;132;01m{\u001b[39;00m\u001b[38;5;28mlen\u001b[39m(memberships)\u001b[38;5;132;01m}\u001b[39;00m\u001b[38;5;124m.\u001b[39m\u001b[38;5;124m\"\u001b[39m))\n\u001b[1;32m    348\u001b[0m \u001b[38;5;28;01melse\u001b[39;00m:\n\u001b[0;32m--> 349\u001b[0m     \u001b[43mcheck_true\u001b[49m\u001b[43m(\u001b[49m\u001b[38;5;28;43mlen\u001b[39;49m\u001b[43m(\u001b[49m\u001b[43mpredictions\u001b[49m\u001b[43m)\u001b[49m\u001b[43m \u001b[49m\u001b[38;5;241;43m==\u001b[39;49m\u001b[43m \u001b[49m\u001b[38;5;28;43mlen\u001b[39;49m\u001b[43m(\u001b[49m\u001b[43mmemberships\u001b[49m\u001b[43m)\u001b[49m\u001b[43m,\u001b[49m\n\u001b[1;32m    350\u001b[0m \u001b[43m               \u001b[49m\u001b[43mInputShapeError\u001b[49m\u001b[43m(\u001b[49m\u001b[38;5;124;43m\"\u001b[39;49m\u001b[38;5;124;43m\"\u001b[39;49m\u001b[43m,\u001b[49m\n\u001b[1;32m    351\u001b[0m \u001b[43m                               \u001b[49m\u001b[38;5;124;43mf\u001b[39;49m\u001b[38;5;124;43m\"\u001b[39;49m\u001b[38;5;124;43mShapes of inputs do not match. \u001b[39;49m\u001b[38;5;124;43m\"\u001b[39;49m\n\u001b[1;32m    352\u001b[0m \u001b[43m                               \u001b[49m\u001b[38;5;124;43mf\u001b[39;49m\u001b[38;5;124;43m\"\u001b[39;49m\u001b[38;5;124;43mYou supplied array lengths \u001b[39;49m\u001b[38;5;124;43m\"\u001b[39;49m\n\u001b[1;32m    353\u001b[0m \u001b[43m                               \u001b[49m\u001b[38;5;124;43mf\u001b[39;49m\u001b[38;5;124;43m\"\u001b[39;49m\u001b[38;5;124;43mpredictions: \u001b[39;49m\u001b[38;5;132;43;01m{\u001b[39;49;00m\u001b[38;5;28;43mlen\u001b[39;49m\u001b[43m(\u001b[49m\u001b[43mpredictions\u001b[49m\u001b[43m)\u001b[49m\u001b[38;5;132;43;01m}\u001b[39;49;00m\u001b[38;5;124;43m, is_member: \u001b[39;49m\u001b[38;5;132;43;01m{\u001b[39;49;00m\u001b[38;5;28;43mlen\u001b[39;49m\u001b[43m(\u001b[49m\u001b[43mmemberships\u001b[49m\u001b[43m)\u001b[49m\u001b[38;5;132;43;01m}\u001b[39;49;00m\u001b[38;5;124;43m.\u001b[39;49m\u001b[38;5;124;43m\"\u001b[39;49m\u001b[43m)\u001b[49m\u001b[43m)\u001b[49m\n",
      "File \u001b[0;32m~/Library/Python/3.9/lib/python/site-packages/jurity/utils.py:65\u001b[0m, in \u001b[0;36mcheck_true\u001b[0;34m(expression, exception)\u001b[0m\n\u001b[1;32m     61\u001b[0m \u001b[38;5;250m\u001b[39m\u001b[38;5;124;03m\"\"\"\u001b[39;00m\n\u001b[1;32m     62\u001b[0m \u001b[38;5;124;03mChecks that given expression is true, otherwise raises the given exception.\u001b[39;00m\n\u001b[1;32m     63\u001b[0m \u001b[38;5;124;03m\"\"\"\u001b[39;00m\n\u001b[1;32m     64\u001b[0m \u001b[38;5;28;01mif\u001b[39;00m \u001b[38;5;129;01mnot\u001b[39;00m expression:\n\u001b[0;32m---> 65\u001b[0m     \u001b[38;5;28;01mraise\u001b[39;00m exception\n",
      "\u001b[0;31mInputShapeError\u001b[0m: ('', 'Shapes of inputs do not match. You supplied array lengths predictions: 9939, is_member: 8736.')"
     ]
    }
   ],
   "source": [
    "print(\"Binary Fairness score, Statistical Parity: \", \n",
    "      metric.get_score(performance_data[\"prediction\"], membership_probs))"
   ]
  },
  {
   "cell_type": "markdown",
   "id": "560bd57d-0582-4d15-bf32-3c5a74741d3f",
   "metadata": {},
   "source": [
    "## Which Metrics Are Implemented?\n",
    "\n",
    "There is some fun math behind the implementation that limits the metrics we're currently able to implement:\n",
    "- Statistical Parity: Difference in prediction rate between protected and comparison group.\n",
    "- Equal Opportunity: Difference in True Positive Rate between protected and comparison group.\n",
    "- Predictive Equality: Difference in the False Positive Rate between protected and comparison group.\n",
    "- Average Odds: Simple Mean of Equal Opportunity and Predictive Equality.\n",
    "- FNR Difference: Difference in the False Negative Rates\n",
    "\n",
    "Which one should you use? \n",
    "![Aequitas Fairness Tree](./supporting_files/Fairness-Short-Tree.png)"
   ]
  },
  {
   "cell_type": "markdown",
   "id": "7f10f53d-b1ef-41f3-8e8e-fcddf2e31926",
   "metadata": {},
   "source": [
    "Source: <a href=https://arxiv.org/pdf/2001.09233.pdf>Rodolfa, Kit T., et al. \"Case study: predictive fairness to reduce misdemeanor recidivism through social service interventions.\" Proceedings of the 2020 Conference on Fairness, Accountability, and Transparency. 2020.</a>"
   ]
  },
  {
   "cell_type": "code",
   "execution_count": null,
   "id": "59aed2b2-fae9-4604-8d32-5e40c0aa6b8a",
   "metadata": {},
   "outputs": [],
   "source": [
    "label_metrics={\"Equal Opportunity\": BinaryFairnessMetrics.EqualOpportunity(),\n",
    "            \"Predictive Equality\": BinaryFairnessMetrics.PredictiveEquality(),\n",
    "             \"Average Odds\": BinaryFairnessMetrics.AverageOdds(),\n",
    "             \"FNR Difference\": BinaryFairnessMetrics.FNRDifference()}\n",
    "no_label_metrics={\"Statistical Parity\":BinaryFairnessMetrics.StatisticalParity()}\n",
    "print(\"Model Performance Using Probabilistic Membership, All Metrics\\n\")\n",
    "for l,m in label_metrics.items():\n",
    "    s=m.get_score(performance_data[\"label\"],\n",
    "                  performance_data[\"prediction\"],\n",
    "                  memberships,\n",
    "                  performance_data[\"surrogate\"],\n",
    "               [1])\n",
    "    print(f\"\\n{l}: {s}\\n\")\n",
    "for l,m in no_label_metrics.items():\n",
    "    s=m.get_score(performance_data[\"prediction\"],\n",
    "                  memberships,\n",
    "                  performance_data[\"surrogate\"],\n",
    "               [1])\n",
    "    print(f\"\\n{l}: {s}\\n\")"
   ]
  },
  {
   "cell_type": "markdown",
   "id": "7d5be996-86ad-4020-887f-4f9dc7855f71",
   "metadata": {},
   "source": [
    "## \"There are 9939 in performance_data. There are 99 in surrogate data.\": What's this now?"
   ]
  },
  {
   "cell_type": "markdown",
   "id": "0657fb10-5700-4929-a0fa-af093b66bf77",
   "metadata": {},
   "source": [
    "Under the hood, Jurity does the following steps:\n",
    "1. Summarize model performance by surrogate class (e.g. turn 'prediction' into 'prediction_ratio')\n",
    "1. Join membership data, which has one row per surrogate class, with summarized data, on surrogate class.\n",
    "\n",
    "Preparing data is often overlooked, but improperly prepared data can cause \"silent errors\", where the software produces output, but the output is wrong. Jurity runs light sanity checks on the inputs and surfaces some notes about the input data. "
   ]
  },
  {
   "cell_type": "code",
   "execution_count": null,
   "id": "e31fbbea-7055-4077-b6bd-d4eb6e04ec5f",
   "metadata": {},
   "outputs": [],
   "source": [
    "# Suppose we lost the last 1000 rows of performance_data?\n",
    "performance_whoops=performance_data.head(9000)\n",
    "BinaryFairnessMetrics.EqualOpportunity().get_score(performance_whoops[\"label\"],\n",
    "                  performance_whoops[\"prediction\"],\n",
    "                  memberships,\n",
    "                  performance_whoops[\"surrogate\"],\n",
    "               [1])"
   ]
  },
  {
   "cell_type": "markdown",
   "id": "20e3ba2d-53d6-4ba2-ac4c-99612bced5d7",
   "metadata": {},
   "source": [
    "## \"7 rows removed for insufficient weight values\" What's This Now?\n",
    "Recall the steps for surrogate clases: \n",
    "1. Summarize model performance by surrogate class (e.g. turn 'prediction' into 'prediction_ratio')\n",
    "1. Join membership data, which has one row per surrogate class, with summarized data.\n",
    "\n",
    "In the first, step, we turn \"prediction\" into \"prediction_ratio\" by calculating a mean.<br>\n",
    "$$percentage=\\frac{1}{n}\\sum I(prediction==True)$$\n",
    "\n",
    "This is a mean, and we want our means to stabilize so they're distributed $N(\\mu, \\frac{\\sigma^2}{n})$<br>\n",
    "This usually requires a sample size ($n$) of about 30 (central limit theorem). <br>\n",
    "So, by default, we drop surrogate classes that have fewer than 30 predictions. \n",
    "\n",
    "\"What if I want to use all of my data???\" You can, but you have to invoke your own fairness calculator. See below. "
   ]
  },
  {
   "cell_type": "markdown",
   "id": "c925ca7a-5c33-4168-a610-dcea2c1ca128",
   "metadata": {},
   "source": [
    "## What Else Do I Need to Know?"
   ]
  },
  {
   "cell_type": "markdown",
   "id": "be477f5c-2c77-4ca0-a97c-06f0f24fca02",
   "metadata": {},
   "source": [
    "Calculations are probabilistic and will change from run to run."
   ]
  },
  {
   "cell_type": "code",
   "execution_count": null,
   "id": "ff0f4275-9f44-4dbf-9e48-a50f0c683596",
   "metadata": {},
   "outputs": [],
   "source": [
    "#Example: Calculate EqualOpportunity twice\n",
    "print(\"EQ #1: \",BinaryFairnessMetrics.EqualOpportunity().get_score(performance_data[\"label\"],\n",
    "                  performance_data[\"prediction\"],\n",
    "                  memberships,\n",
    "                  performance_data[\"surrogate\"],\n",
    "               [1]))\n",
    "print(\"EQ #2: \",BinaryFairnessMetrics.EqualOpportunity().get_score(performance_data[\"label\"],\n",
    "                  performance_data[\"prediction\"],\n",
    "                  memberships,\n",
    "                  performance_data[\"surrogate\"],\n",
    "               [1]))"
   ]
  },
  {
   "cell_type": "markdown",
   "id": "18658b00-f123-4d91-80e2-a2bde249fadc",
   "metadata": {},
   "source": [
    "This is because we use bootstrap calculations, see <a href=https://www.hms.harvard.edu/bss/neuro/bornlab/nb204/statistics/bootstrap.pdf>Introduction to the Bootstrap</a>\n",
    "\n",
    "How much do they change? Please attend our sequel presentation on October 16!"
   ]
  },
  {
   "cell_type": "markdown",
   "id": "9b9d8db0-591b-4c71-987f-6b80a63aa306",
   "metadata": {},
   "source": [
    "## Calculation Stability Depends on the Inputs\n",
    "- A \"wide range\" of protected class probabilities\n",
    "- A \"large number\" of surrogate classes\n",
    "- A \"large number\" of individuals per surrogate class\n",
    "\n",
    "### In Practical Terms\n",
    "- Protected class probabilities should range from 0.1 to 0.9\n",
    "- You should have at least 100 surrogate clases.\n",
    "- You should have 20-30 individuals per surrogate class. "
   ]
  },
  {
   "cell_type": "markdown",
   "id": "46ede298-d68e-4b17-a292-83785b8c5944",
   "metadata": {},
   "source": [
    "# Bonus Round: Take Control of Calculations\n",
    "\n",
    "So far, we've demonstrated high level APIs that cover most use cases. \n",
    "If you want to take control of the calculations, you can."
   ]
  },
  {
   "cell_type": "code",
   "execution_count": null,
   "id": "3fa0e92e-d293-4d72-bfd2-6b64a38f59bc",
   "metadata": {},
   "outputs": [],
   "source": [
    "from jurity.utils_proba import SummaryData\n",
    "\n",
    "summarized_df=SummaryData.summarize(performance_data['prediction'], memberships, performance_data['surrogate'],\n",
    "                                    performance_data['label'], performance_data.columns)\n",
    "print(\"This is the DataFrame that Jurity Uses to Calculate Performance Metrics\")\n",
    "summarized_df"
   ]
  },
  {
   "cell_type": "code",
   "execution_count": null,
   "id": "a6579c91-462c-4d2c-ab27-3f40425a5303",
   "metadata": {},
   "outputs": [],
   "source": [
    "from jurity.utils_proba import BiasCalcFromDataFrame as bcfdf\n",
    "#Specify metadata for the dataframe: the columns that have the membership probabilities\n",
    "#and the position of the column that represents the protected group \n",
    "dataframe_metadata=bcfdf([\"NP\",\"P\"],\"count\",[1],[\"false_positive_ratio\",\"true_positive_ratio\",\"false_negative_ratio\",\"true_negative_ratio\",\"prediction_ratio\"])"
   ]
  },
  {
   "cell_type": "markdown",
   "id": "737f1acd-fa0a-4b48-bd08-43b2dcea9ecc",
   "metadata": {},
   "source": [
    "## You can set the minimum weight value."
   ]
  },
  {
   "cell_type": "code",
   "execution_count": null,
   "id": "d9bbcdbc-e62b-42c0-b5a2-24fd769331ea",
   "metadata": {},
   "outputs": [],
   "source": [
    "my_bias_calculator=dataframe_metadata.get_bias_calculator(summarized_df,min_weight=10)"
   ]
  },
  {
   "cell_type": "markdown",
   "id": "6003ae5b-089c-4e13-ac32-a352b1877ed7",
   "metadata": {},
   "source": [
    "## You can also determine how many bootstrap calculations are run."
   ]
  },
  {
   "cell_type": "code",
   "execution_count": null,
   "id": "bd958271-48ff-4f8b-8862-95de3216959b",
   "metadata": {},
   "outputs": [],
   "source": [
    "boot_results=my_bias_calculator.run_bootstrap(200)\n",
    "boot_results"
   ]
  },
  {
   "cell_type": "markdown",
   "id": "e8d0a857-b1b3-4383-a317-c59b99a1addf",
   "metadata": {},
   "source": [
    "Bootstrap should return a calculation that distributed Normal with mean equal to the group's true metric."
   ]
  },
  {
   "cell_type": "code",
   "execution_count": null,
   "id": "3eb017c2-762e-4be3-ad83-c893e9b0d355",
   "metadata": {},
   "outputs": [],
   "source": [
    "boot_results[boot_results[\"class\"]==\"P\"].FPR.hist()"
   ]
  },
  {
   "cell_type": "markdown",
   "id": "4aa5c7d5-6b60-4e62-9a15-42b88b0da324",
   "metadata": {},
   "source": [
    "## BiasCalculator Has a Method that Will Transform the Bootstrap Results Into a Format get_score Can Use"
   ]
  },
  {
   "cell_type": "code",
   "execution_count": null,
   "id": "7cbf0378-4b3c-4cc9-b54e-8d3a2ab12825",
   "metadata": {},
   "outputs": [],
   "source": [
    "boot_transformed=my_bias_calculator.transform_bootstrap_results(boot_results)\n",
    "boot_transformed"
   ]
  },
  {
   "cell_type": "code",
   "execution_count": null,
   "id": "4e264a5b-d914-43d5-b8eb-9aaec20d66a6",
   "metadata": {},
   "outputs": [],
   "source": [
    "label_metrics={\"Equal Opportunity\": BinaryFairnessMetrics.EqualOpportunity(),\n",
    "            \"Predictive Equality\": BinaryFairnessMetrics.PredictiveEquality(),\n",
    "             \"Average Odds\": BinaryFairnessMetrics.AverageOdds(),\n",
    "             \"FNR Difference\": BinaryFairnessMetrics.FNRDifference()}\n",
    "no_label_metrics={\"Statistical Parity\":BinaryFairnessMetrics.StatisticalParity()}\n",
    "print(\"Model Performance Using Probabilistic Membership, All Metrics\\n\")\n",
    "for l,m in label_metrics.items():\n",
    "    s=m.get_score(None,\n",
    "                  None,\n",
    "                  None,\n",
    "                  None,\n",
    "               [1],\n",
    "                 boot_transformed)\n",
    "    print(f\"\\n{l}: {s}\\n\")\n",
    "for l,m in no_label_metrics.items():\n",
    "    s=m.get_score(None,\n",
    "                  None,\n",
    "                  None,\n",
    "               [1],\n",
    "                 boot_transformed)\n",
    "    print(f\"\\n{l}: {s}\\n\")"
   ]
  }
 ],
 "metadata": {
  "kernelspec": {
   "display_name": "Python 3 (ipykernel)",
   "language": "python",
   "name": "python3"
  },
  "language_info": {
   "codemirror_mode": {
    "name": "ipython",
    "version": 3
   },
   "file_extension": ".py",
   "mimetype": "text/x-python",
   "name": "python",
   "nbconvert_exporter": "python",
   "pygments_lexer": "ipython3",
   "version": "3.9.6"
  }
 },
 "nbformat": 4,
 "nbformat_minor": 5
}

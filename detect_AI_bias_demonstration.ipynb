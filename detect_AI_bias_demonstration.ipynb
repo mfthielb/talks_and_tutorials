{
 "cells": [
  {
   "cell_type": "markdown",
   "metadata": {},
   "source": [
    "# AI with a Biased Target"
   ]
  },
  {
   "cell_type": "markdown",
   "metadata": {},
   "source": [
    "## Business Problem:\n",
    "The cost associated with a particular client is our target ($Y$)<br>\n",
    "The model assumes that:<br>\n",
    "$Y \\sim N(\\beta_0+\\beta_1*X,\\sigma_y)$<br><br>\n",
    "where $X$ is the weighted sum of a vector of health-related inputs.<br><br>\n",
    "But the true relationship is:<br><br>\n",
    "$Y \\sim N(\\beta_0+\\beta_1*X+\\beta_2*X_m,\\sigma_y)$<br><br>\n",
    "where $X_m$ denotes membership in a protected class.<br>\n",
    "and <br>\n",
    "$X_m$ is correlated with $X$"
   ]
  },
  {
   "cell_type": "code",
   "execution_count": 46,
   "metadata": {},
   "outputs": [],
   "source": [
    "import numpy as np\n",
    "import pandas as pd\n",
    "import seaborn as sns\n",
    "import matplotlib.pyplot as plt\n",
    "from sklearn.metrics import confusion_matrix\n",
    "from sklearn.linear_model import LinearRegression\n",
    "from sklearn.model_selection import train_test_split\n",
    "from IPython.display import Markdown, display\n",
    "%matplotlib inline "
   ]
  },
  {
   "cell_type": "markdown",
   "metadata": {},
   "source": [
    "These are my (highly customized) functions for simulating a biased AI model. <br>\n",
    "You can write your own! "
   ]
  },
  {
   "cell_type": "code",
   "execution_count": 47,
   "metadata": {},
   "outputs": [],
   "source": [
    "import numpy as np\n",
    "import pandas as pd\n",
    "import seaborn as sns\n",
    "import matplotlib.pyplot as plt\n",
    "from sklearn.metrics import confusion_matrix\n",
    "from sklearn.linear_model import LinearRegression\n",
    "from sklearn.model_selection import train_test_split\n",
    "\n",
    "#Parameter vectors are always [b0,b1,b2]\n",
    "#Turn the linear portion into a probability\n",
    "def inverse_logit(xb):\n",
    "    return pow(1+np.exp(-xb),-1)\n",
    "\n",
    "def assign_group_membership(x,protected_parameters,n):\n",
    "    noise=np.random.normal(size=n)\n",
    "    linear_part=protected_parameters[0]\\\n",
    "        +protected_parameters[1]*x\\\n",
    "        +noise\n",
    "    prob=inverse_logit(linear_part)\n",
    "    return (prob>0.5).astype(float)\n",
    "\n",
    "def assign_outcome(X,selection_parameters,protected_group,n,noise_scale):\n",
    "    noise=np.random.normal(size=n)\n",
    "    return selection_parameters[0]\\\n",
    "        +selection_parameters[1]*X\\\n",
    "        +selection_parameters[2]*protected_group\\\n",
    "        +noise*noise_scale\n",
    "\n",
    "def simulate_data(outcome_params,protected_params,sample_size,noise_scale=1.):\n",
    "    X_health=np.random.normal(size=sample_size)\n",
    "    #b_1 is negative--people in the protected group are more likely to be in poor health\n",
    "    protected_group=assign_group_membership(X_health,protected_params,sample_size)\n",
    "    #b_1 is negative--better health is correlated with lower costs\n",
    "    #b_2 is negative--membership in protected group is associated with less care for same health conditions\n",
    "    outcome=assign_outcome(X_health,outcome_params,protected_group,sample_size,noise_scale)\n",
    "    return X_health,protected_group,outcome\n",
    "\n",
    "def make_model(in_X,protected_group,y,use_protected=False,show_graphs=True):\n",
    "    #Stack X and the protected indicator together\n",
    "    X=np.column_stack((in_X,protected_group))\n",
    "    #Do a test/train split together, regardless of whether we use it in the model\n",
    "    X_train,X_test,y_train,y_test=train_test_split(X, y, test_size=0.33, random_state=42)\n",
    "    #Compare to a model that uses the protected group\n",
    "    if use_protected:\n",
    "        reg = LinearRegression(fit_intercept=True).fit(X_train, y_train)\n",
    "        p=reg.predict(X_test)\n",
    "    else:\n",
    "        #IF we decided not to use the protected group, just select the first column of X\n",
    "        reg = LinearRegression(fit_intercept=True).fit(X_train[:,0].reshape(-1,1), y_train)\n",
    "        p=reg.predict(X_test[:,0].reshape(-1,1))\n",
    "    if show_graphs:\n",
    "        print(\"Root MSE:\")\n",
    "        print(np.sqrt(sum(pow(p-y_test,2))/(len(p))))\n",
    "        test_df=pd.DataFrame({\"predicted\":p,\"health\":X_test[:,0],\"protected\":X_test[:,1],\"cost\":y_test})\n",
    "        sns.lmplot(data=test_df,x=\"cost\",y=\"predicted\",hue=\"protected\")\n",
    "        plt.show()\n",
    "    return pd.DataFrame({\"predicted\":p,\"health\":X_test[:,0],\"protected\":X_test[:,1],\"cost\":y_test})\n",
    "\n",
    "def make_group_assignments(in_df,quantile,col=\"predicted\",membership_col=\"protected\",gt=True,show_graphs=True):\n",
    "    cut_off=in_df[\"predicted\"].quantile(q=1.-quantile)\n",
    "    if gt:\n",
    "        in_df[\"group_assignment\"]=(in_df[col]>cut_off).astype(float)\n",
    "    else:\n",
    "        in_df[\"group_assignment\"]=(in_df[col]<cut_off).astype(float)\n",
    "    if show_graphs:\n",
    "        print(pd.crosstab(in_df[\"group_assignment\"],in_df[membership_col]))\n",
    "    return in_df\n",
    "\n",
    "def create_model_df_and_plot(outcome,X,protected,show_graphs=True):\n",
    "    modeling_data=pd.DataFrame({\"cost\":outcome,\"health\":X,\"protected\":protected})\n",
    "    if show_graphs:\n",
    "        print(\"There are {0} members of the protected group out of {1}\".format(np.sum(protected),len(protected)))\n",
    "        print(modeling_data.head())\n",
    "        fig, ax = plt.subplots()\n",
    "        sns.distplot(modeling_data[modeling_data[\"protected\"].astype(bool)][\"cost\"], ax=ax, kde=False,label=\"protected\")\n",
    "        sns.distplot(modeling_data[~(modeling_data[\"protected\"].astype(bool))][\"cost\"], ax=ax, kde=False,label=\"not protected\")\n",
    "        ax.legend()\n",
    "        ax.set_title(\"Healthcare Costs for Groups\")\n",
    "        plt.show()\n",
    "        fig, ax = plt.subplots()\n",
    "        sns.distplot(modeling_data[modeling_data[\"protected\"].astype(bool)][\"health\"], ax=ax, kde=False,label=\"protected\")\n",
    "        sns.distplot(modeling_data[~(modeling_data[\"protected\"].astype(bool))][\"health\"], ax=ax, kde=False,label=\"not protected\")\n",
    "        ax.set_title(\"Health Measures for Groups\")\n",
    "        ax.legend()\n",
    "        plt.show()\n",
    "    return modeling_data\n",
    "\n",
    "def make_model_and_test_outcome(target_parameters,protected_parameters,sample_size,use_protected=False,quantile_cut=0.1,show_graphs=True):\n",
    "    X_health,protected_group,outcome=simulate_data(target_parameters,protected_parameters,sample_size)\n",
    "    modeling_data=create_model_df_and_plot(outcome,X_health,protected_group,show_graphs=show_graphs)\n",
    "    p=make_model(X_health,protected_group,outcome,use_protected=use_protected,show_graphs=show_graphs)\n",
    "    \n",
    "    #Calculate a cut-off for inclusion in the program\n",
    "    #Start with people who have the upper 90th percentile of \n",
    "    g=make_group_assignments(p,quantile_cut,show_graphs=show_graphs)\n",
    "    \n",
    "    #Output a *.csv to upload to Fidelity's Fairness tools\n",
    "    #See what happens\n",
    "    upper_limit_cost=p[\"cost\"].quantile(q=1.-quantile_cut)\n",
    "    g[\"label\"]=(g[\"cost\"]>upper_limit_cost).astype(float)\n",
    "    return modeling_data\\\n",
    "        , g.rename(columns={\"group_assignment\":\"prediction\",\"protected\":\"membership\"})\n",
    "\n",
    "def disparate_impact_statisics(in_df):\n",
    "    means=in_df.groupby(\"model_id\").mean()\n",
    "    means.columns= [c+\"_mean\" for c in means.columns]\n",
    "    medians=in_df.groupby(\"model_id\").median()\n",
    "    medians.columns=[c+\"_median\" for c in medians.columns]\n",
    "    lower_fifth=in_df.groupby(\"model_id\").quantile(q=0.05)\n",
    "    lower_fifth.columns=[c+\"_lower_5th\" for c in lower_fifth.columns]\n",
    "    variances=in_df.groupby(\"model_id\").std()\n",
    "    variances.columns=[c+\"_std\" for c in variances.columns]\n",
    "    return pd.concat([means,medians,lower_fifth,variances],axis=1)\n",
    "\n",
    "#Simulate Disparate Impact regardless of data generating process\n",
    "def run_simulation(dict_of_lists,n_inner=1000):\n",
    "    p_list=dict_of_lists[\"p_list\"]\n",
    "    c_list=dict_of_lists[\"c_list\"]\n",
    "    N_list=dict_of_lists[\"N_list\"]\n",
    "    all_values=[]\n",
    "    for N in N_list:\n",
    "        for p in p_list:\n",
    "            for c in c_list:\n",
    "                N_p=np.random.binomial(N,p,size=n_inner)\n",
    "                N_p_plus_list=[]\n",
    "                N_np_plus_list=[]\n",
    "                N_p_list=[]\n",
    "                for i in range(n_inner):\n",
    "                    N_p_plus=np.random.binomial(N_p[i],c)\n",
    "                    N_np_plus=np.random.binomial(N-N_p[i],c)\n",
    "                    N_p_plus_list.append(N_p_plus)\n",
    "                    N_np_plus_list.append(N_np_plus)\n",
    "                    N_p_list.append(N_p[i])\n",
    "                output=pd.concat([pd.Series(N_p_plus_list,name=\"N_p_plus\"),pd.Series(N_np_plus_list,name=\"N_np_plus\")\\\n",
    "                                ,pd.Series(N_p_list,name=\"N_p\")],axis=1)\n",
    "                output[\"N\"]=N\n",
    "                output[\"p\"]=p\n",
    "                output[\"c\"]=c\n",
    "                all_values.append(output)\n",
    "    return pd.concat(all_values)\n",
    "\n",
    "def post_process_disparate_impact(values_data_frame,c_name=\"c\"):\n",
    "    # Reference for lower bound\n",
    "    # D. Katz, J. Baptista, S. P. Azen and M. C. Pike (Sep., 1978) \n",
    "    # Obtaining Confidence Intervals for the Risk Ratio in Cohort Studies,\n",
    "    # Biometrics Vol. 34, No. 3 , pp. 469-474\n",
    "    values_data_frame[\"disparate_impact\"]=(values_data_frame[\"N_p_plus\"]/values_data_frame[\"N_p\"])/(values_data_frame[\"N_np_plus\"]/(values_data_frame[\"N\"]-values_data_frame[\"N_p\"]))\n",
    "    values_data_frame[\"actual_c\"]=(values_data_frame[\"N_p_plus\"]+values_data_frame[\"N_p\"])/values_data_frame[\"N\"]\n",
    "    values_data_frame[\"calc_upper_bound\"]=2*(1-values_data_frame[c_name])/(values_data_frame[\"N_p_plus\"])\n",
    "    values_data_frame[\"expected_upper_bound\"]=2*(1-values_data_frame[c_name])/(values_data_frame[c_name]*values_data_frame[\"N\"]*values_data_frame[\"p\"])\n",
    "    values_data_frame[\"expected_log_di_variance\"]=(1/values_data_frame[c_name]-1)/values_data_frame[\"N_p_plus\"]+(1/values_data_frame[c_name]-1)/values_data_frame[\"N_np_plus\"]\n",
    "    values_data_frame[\"actual_log_di_variance\"]=(1/values_data_frame[\"actual_c\"]-1)/values_data_frame[\"N_p_plus\"]+(1/values_data_frame[\"actual_c\"]-1)/values_data_frame[\"N_np_plus\"]\n",
    "    values_data_frame[\"upper_bound_di\"]=np.exp(np.sqrt(values_data_frame[\"actual_log_di_variance\"])*2.45)\n",
    "    values_data_frame[\"lower_bound_di\"]=np.exp(-np.sqrt(values_data_frame[\"actual_log_di_variance\"])*2.45)\n",
    "    return values_data_frame\n",
    "\n",
    "#A slightly different implementation of the simulation, where \n",
    "#Classification rate for the group is chosen from a Beta distribution\n",
    "def simulate_disparate_impact_varying_c(dict_of_lists,n_inner=1000):\n",
    "    p_list=dict_of_lists[\"p_list\"]\n",
    "    alpha_beta_list=dict_of_lists[\"alpha_beta_list\"]\n",
    "    N_list=dict_of_lists[\"N_list\"]\n",
    "    all_values=[]\n",
    "    for N in N_list:\n",
    "        for alpha_beta in alpha_beta_list:\n",
    "            for p in p_list:\n",
    "                c_p=np.random.beta(alpha_beta[0],alpha_beta[1],size=n_inner) #classification rate for protected\n",
    "                c_np=np.random.beta(alpha_beta[0],alpha_beta[1],size=n_inner) #classification rate for not protected\n",
    "                N_p=np.random.binomial(N,p,size=n_inner)\n",
    "                N_p_plus_list=[]\n",
    "                N_np_plus_list=[]\n",
    "                effective_c_list=[]\n",
    "                N_p_list=[]\n",
    "                for i in range(n_inner):\n",
    "                    N_p_plus=np.random.binomial(N_p[i],c_p[i])\n",
    "                    N_np_plus=np.random.binomial(N-N_p[i],c_p[i])\n",
    "                    effective_c=(N_p_plus+N_np_plus)/(N)\n",
    "                    N_p_plus_list.append(N_p_plus)\n",
    "                    N_np_plus_list.append(N_np_plus)\n",
    "                    effective_c_list.append(effective_c)\n",
    "                    N_p_list.append(N_p[i])\n",
    "                output=pd.concat([pd.Series(N_p_plus_list,name=\"N_p_plus\"),pd.Series(N_np_plus_list,name=\"N_np_plus\")\\\n",
    "                                ,pd.Series(effective_c_list,name=\"actual_c\"),pd.Series(N_p_list,name=\"N_p\")],axis=1)\n",
    "                output[\"N\"]=N\n",
    "                output[\"p\"]=p\n",
    "                output[\"expected_c\"]=alpha_beta[0]/(alpha_beta[0]+alpha_beta[1])\n",
    "                all_values.append(output)\n",
    "    return pd.concat(all_values)"
   ]
  },
  {
   "cell_type": "markdown",
   "metadata": {},
   "source": [
    "### And Let's Simulate From that Model"
   ]
  },
  {
   "cell_type": "code",
   "execution_count": 48,
   "metadata": {},
   "outputs": [
    {
     "name": "stdout",
     "output_type": "stream",
     "text": [
      "There are 5016.0 members of the protected group out of 10000\n",
      "       cost    health  protected\n",
      "0  4.536895 -1.138142        1.0\n",
      "1  5.871731 -0.370133        0.0\n",
      "2  5.827863 -1.362753        0.0\n",
      "3  4.440527  0.488135        1.0\n",
      "4  3.647684 -0.859616        1.0\n"
     ]
    },
    {
     "data": {
      "image/png": "[encoded data removed]",
      "text/plain": [
       "<Figure size 432x288 with 1 Axes>"
      ]
     },
     "metadata": {
      "needs_background": "light"
     },
     "output_type": "display_data"
    },
    {
     "data": {
      "image/png": "[encoded data removed]",
      "text/plain": [
       "<Figure size 432x288 with 1 Axes>"
      ]
     },
     "metadata": {
      "needs_background": "light"
     },
     "output_type": "display_data"
    },
    {
     "name": "stdout",
     "output_type": "stream",
     "text": [
      "Root MSE:\n",
      "1.1229437189510436\n"
     ]
    },
    {
     "data": {
      "image/png": "[encoded data removed]",
      "text/plain": [
       "<Figure size 426.25x360 with 1 Axes>"
      ]
     },
     "metadata": {
      "needs_background": "light"
     },
     "output_type": "display_data"
    },
    {
     "name": "stdout",
     "output_type": "stream",
     "text": [
      "protected          0.0   1.0\n",
      "group_assignment            \n",
      "0.0               1505  1465\n",
      "1.0                 88   242\n"
     ]
    }
   ],
   "source": [
    "#The first vector is the parameters for the cost model. \n",
    "#Average cost is 5 units. Each one-unit improvement in health results in a 5-unit reduction in cost.\n",
    "#Being a member of the protected group reduces cost by 1 unit\n",
    "modeling_data,test_output=make_model_and_test_outcome([5.,-1.,-1.],[0.,-.3],10000)"
   ]
  },
  {
   "cell_type": "markdown",
   "metadata": {},
   "source": [
    "What the above graphs tell us about the situation: \n",
    "1) The protected group has slightly worse health than the unprotected group. \n",
    "2) Even so, the protected group has slightly lower costs."
   ]
  },
  {
   "cell_type": "code",
   "execution_count": 49,
   "metadata": {},
   "outputs": [
    {
     "data": {
      "text/html": [
       "<div>\n",
       "<style scoped>\n",
       "    .dataframe tbody tr th:only-of-type {\n",
       "        vertical-align: middle;\n",
       "    }\n",
       "\n",
       "    .dataframe tbody tr th {\n",
       "        vertical-align: top;\n",
       "    }\n",
       "\n",
       "    .dataframe thead th {\n",
       "        text-align: right;\n",
       "    }\n",
       "</style>\n",
       "<table border=\"1\" class=\"dataframe\">\n",
       "  <thead>\n",
       "    <tr style=\"text-align: right;\">\n",
       "      <th></th>\n",
       "      <th>predicted</th>\n",
       "      <th>health</th>\n",
       "      <th>membership</th>\n",
       "      <th>cost</th>\n",
       "      <th>prediction</th>\n",
       "      <th>label</th>\n",
       "    </tr>\n",
       "  </thead>\n",
       "  <tbody>\n",
       "    <tr>\n",
       "      <th>0</th>\n",
       "      <td>4.763866</td>\n",
       "      <td>-0.294902</td>\n",
       "      <td>1.0</td>\n",
       "      <td>3.973478</td>\n",
       "      <td>0.0</td>\n",
       "      <td>0.0</td>\n",
       "    </tr>\n",
       "    <tr>\n",
       "      <th>1</th>\n",
       "      <td>5.362654</td>\n",
       "      <td>-0.981143</td>\n",
       "      <td>0.0</td>\n",
       "      <td>6.577934</td>\n",
       "      <td>0.0</td>\n",
       "      <td>1.0</td>\n",
       "    </tr>\n",
       "    <tr>\n",
       "      <th>2</th>\n",
       "      <td>4.742051</td>\n",
       "      <td>-0.269901</td>\n",
       "      <td>1.0</td>\n",
       "      <td>4.519298</td>\n",
       "      <td>0.0</td>\n",
       "      <td>0.0</td>\n",
       "    </tr>\n",
       "    <tr>\n",
       "      <th>3</th>\n",
       "      <td>4.225792</td>\n",
       "      <td>0.321758</td>\n",
       "      <td>1.0</td>\n",
       "      <td>4.288916</td>\n",
       "      <td>0.0</td>\n",
       "      <td>0.0</td>\n",
       "    </tr>\n",
       "    <tr>\n",
       "      <th>4</th>\n",
       "      <td>6.130482</td>\n",
       "      <td>-1.861114</td>\n",
       "      <td>1.0</td>\n",
       "      <td>7.483285</td>\n",
       "      <td>1.0</td>\n",
       "      <td>1.0</td>\n",
       "    </tr>\n",
       "  </tbody>\n",
       "</table>\n",
       "</div>"
      ],
      "text/plain": [
       "   predicted    health  membership      cost  prediction  label\n",
       "0   4.763866 -0.294902         1.0  3.973478         0.0    0.0\n",
       "1   5.362654 -0.981143         0.0  6.577934         0.0    1.0\n",
       "2   4.742051 -0.269901         1.0  4.519298         0.0    0.0\n",
       "3   4.225792  0.321758         1.0  4.288916         0.0    0.0\n",
       "4   6.130482 -1.861114         1.0  7.483285         1.0    1.0"
      ]
     },
     "execution_count": 49,
     "metadata": {},
     "output_type": "execute_result"
    }
   ],
   "source": [
    "test_output.head()"
   ]
  },
  {
   "cell_type": "code",
   "execution_count": 50,
   "metadata": {},
   "outputs": [
    {
     "data": {
      "text/plain": [
       "6.356899783240041"
      ]
     },
     "execution_count": 50,
     "metadata": {},
     "output_type": "execute_result"
    }
   ],
   "source": [
    "upper_90_cost=modeling_data[\"cost\"].quantile(0.9)\n",
    "upper_90_cost"
   ]
  },
  {
   "cell_type": "code",
   "execution_count": 51,
   "metadata": {},
   "outputs": [
    {
     "name": "stdout",
     "output_type": "stream",
     "text": [
      "(10000, 4)\n"
     ]
    },
    {
     "data": {
      "text/plain": [
       "1000.0"
      ]
     },
     "execution_count": 51,
     "metadata": {},
     "output_type": "execute_result"
    }
   ],
   "source": [
    "modeling_data[\"label\"]=(modeling_data[\"cost\"]>upper_90_cost).astype(float)\n",
    "print(modeling_data.shape)\n",
    "modeling_data[\"label\"].sum()"
   ]
  },
  {
   "cell_type": "code",
   "execution_count": 52,
   "metadata": {},
   "outputs": [
    {
     "data": {
      "text/html": [
       "<div>\n",
       "<style scoped>\n",
       "    .dataframe tbody tr th:only-of-type {\n",
       "        vertical-align: middle;\n",
       "    }\n",
       "\n",
       "    .dataframe tbody tr th {\n",
       "        vertical-align: top;\n",
       "    }\n",
       "\n",
       "    .dataframe thead th {\n",
       "        text-align: right;\n",
       "    }\n",
       "</style>\n",
       "<table border=\"1\" class=\"dataframe\">\n",
       "  <thead>\n",
       "    <tr style=\"text-align: right;\">\n",
       "      <th></th>\n",
       "      <th>cost</th>\n",
       "      <th>health</th>\n",
       "      <th>protected</th>\n",
       "      <th>label</th>\n",
       "    </tr>\n",
       "  </thead>\n",
       "  <tbody>\n",
       "    <tr>\n",
       "      <th>0</th>\n",
       "      <td>4.536895</td>\n",
       "      <td>-1.138142</td>\n",
       "      <td>1.0</td>\n",
       "      <td>0.0</td>\n",
       "    </tr>\n",
       "    <tr>\n",
       "      <th>1</th>\n",
       "      <td>5.871731</td>\n",
       "      <td>-0.370133</td>\n",
       "      <td>0.0</td>\n",
       "      <td>0.0</td>\n",
       "    </tr>\n",
       "    <tr>\n",
       "      <th>2</th>\n",
       "      <td>5.827863</td>\n",
       "      <td>-1.362753</td>\n",
       "      <td>0.0</td>\n",
       "      <td>0.0</td>\n",
       "    </tr>\n",
       "    <tr>\n",
       "      <th>3</th>\n",
       "      <td>4.440527</td>\n",
       "      <td>0.488135</td>\n",
       "      <td>1.0</td>\n",
       "      <td>0.0</td>\n",
       "    </tr>\n",
       "    <tr>\n",
       "      <th>4</th>\n",
       "      <td>3.647684</td>\n",
       "      <td>-0.859616</td>\n",
       "      <td>1.0</td>\n",
       "      <td>0.0</td>\n",
       "    </tr>\n",
       "  </tbody>\n",
       "</table>\n",
       "</div>"
      ],
      "text/plain": [
       "       cost    health  protected  label\n",
       "0  4.536895 -1.138142        1.0    0.0\n",
       "1  5.871731 -0.370133        0.0    0.0\n",
       "2  5.827863 -1.362753        0.0    0.0\n",
       "3  4.440527  0.488135        1.0    0.0\n",
       "4  3.647684 -0.859616        1.0    0.0"
      ]
     },
     "execution_count": 52,
     "metadata": {},
     "output_type": "execute_result"
    }
   ],
   "source": [
    "modeling_data.head()"
   ]
  },
  {
   "cell_type": "code",
   "execution_count": 53,
   "metadata": {},
   "outputs": [
    {
     "data": {
      "text/html": [
       "<div>\n",
       "<style scoped>\n",
       "    .dataframe tbody tr th:only-of-type {\n",
       "        vertical-align: middle;\n",
       "    }\n",
       "\n",
       "    .dataframe tbody tr th {\n",
       "        vertical-align: top;\n",
       "    }\n",
       "\n",
       "    .dataframe thead th {\n",
       "        text-align: right;\n",
       "    }\n",
       "</style>\n",
       "<table border=\"1\" class=\"dataframe\">\n",
       "  <thead>\n",
       "    <tr style=\"text-align: right;\">\n",
       "      <th></th>\n",
       "      <th>predicted</th>\n",
       "      <th>health</th>\n",
       "      <th>membership</th>\n",
       "      <th>cost</th>\n",
       "      <th>prediction</th>\n",
       "      <th>label</th>\n",
       "    </tr>\n",
       "  </thead>\n",
       "  <tbody>\n",
       "    <tr>\n",
       "      <th>0</th>\n",
       "      <td>4.763866</td>\n",
       "      <td>-0.294902</td>\n",
       "      <td>1.0</td>\n",
       "      <td>3.973478</td>\n",
       "      <td>0.0</td>\n",
       "      <td>0.0</td>\n",
       "    </tr>\n",
       "    <tr>\n",
       "      <th>1</th>\n",
       "      <td>5.362654</td>\n",
       "      <td>-0.981143</td>\n",
       "      <td>0.0</td>\n",
       "      <td>6.577934</td>\n",
       "      <td>0.0</td>\n",
       "      <td>1.0</td>\n",
       "    </tr>\n",
       "    <tr>\n",
       "      <th>2</th>\n",
       "      <td>4.742051</td>\n",
       "      <td>-0.269901</td>\n",
       "      <td>1.0</td>\n",
       "      <td>4.519298</td>\n",
       "      <td>0.0</td>\n",
       "      <td>0.0</td>\n",
       "    </tr>\n",
       "    <tr>\n",
       "      <th>3</th>\n",
       "      <td>4.225792</td>\n",
       "      <td>0.321758</td>\n",
       "      <td>1.0</td>\n",
       "      <td>4.288916</td>\n",
       "      <td>0.0</td>\n",
       "      <td>0.0</td>\n",
       "    </tr>\n",
       "    <tr>\n",
       "      <th>4</th>\n",
       "      <td>6.130482</td>\n",
       "      <td>-1.861114</td>\n",
       "      <td>1.0</td>\n",
       "      <td>7.483285</td>\n",
       "      <td>1.0</td>\n",
       "      <td>1.0</td>\n",
       "    </tr>\n",
       "  </tbody>\n",
       "</table>\n",
       "</div>"
      ],
      "text/plain": [
       "   predicted    health  membership      cost  prediction  label\n",
       "0   4.763866 -0.294902         1.0  3.973478         0.0    0.0\n",
       "1   5.362654 -0.981143         0.0  6.577934         0.0    1.0\n",
       "2   4.742051 -0.269901         1.0  4.519298         0.0    0.0\n",
       "3   4.225792  0.321758         1.0  4.288916         0.0    0.0\n",
       "4   6.130482 -1.861114         1.0  7.483285         1.0    1.0"
      ]
     },
     "execution_count": 53,
     "metadata": {},
     "output_type": "execute_result"
    }
   ],
   "source": [
    "test_output.head()\n",
    "#predicted: predicted cost based on health\n",
    "#prediction: the predicted label based on the upper 90th percentile of the predicted value\n",
    "#label: the classification label based on health"
   ]
  },
  {
   "cell_type": "code",
   "execution_count": 54,
   "metadata": {},
   "outputs": [
    {
     "name": "stdout",
     "output_type": "stream",
     "text": [
      "*Race fails 4/5 test at 0.50*\n",
      " - Race minimum proportion at 0.50: 0.390\n",
      "*Race fails Fisher exact test at 0.50*\n",
      " - Race minimum proportion at 0.50: 0.000\n",
      "*Race fails Chi squared test at 0.50*\n",
      " - Race minimum proportion at 0.50: 0.000\n",
      "*Race fails z test at 0.50*\n",
      " - Race minimum proportion at 0.50: 0.000\n",
      "*Race fails Bayes Factor test at 0.50*\n",
      " - Race minimum proportion at 0.50: 107307698845173.906\n"
     ]
    }
   ],
   "source": [
    "from auditai.misc import bias_test_check\n",
    "\n",
    "# test for bias\n",
    "bias_test_check(labels=test_output['membership'], results=test_output[\"prediction\"], category='Race')"
   ]
  },
  {
   "cell_type": "code",
   "execution_count": 55,
   "metadata": {},
   "outputs": [
    {
     "data": {
      "image/png": "[encoded data removed]",
      "text/plain": [
       "<Figure size 864x936 with 5 Axes>"
      ]
     },
     "metadata": {
      "needs_background": "light"
     },
     "output_type": "display_data"
    },
    {
     "data": {
      "text/plain": [
       "array([<matplotlib.axes._subplots.AxesSubplot object at 0x000001E608D4E9B0>,\n",
       "       <matplotlib.axes._subplots.AxesSubplot object at 0x000001E608D69E10>,\n",
       "       <matplotlib.axes._subplots.AxesSubplot object at 0x000001E608DA11D0>,\n",
       "       <matplotlib.axes._subplots.AxesSubplot object at 0x000001E608DD0550>,\n",
       "       <matplotlib.axes._subplots.AxesSubplot object at 0x000001E608DFD8D0>],\n",
       "      dtype=object)"
      ]
     },
     "execution_count": 55,
     "metadata": {},
     "output_type": "execute_result"
    }
   ],
   "source": [
    "from auditai.viz import plot_threshold_tests\n",
    "plot_threshold_tests(labels=test_output['membership'], results=test_output[\"predicted\"], category='Race')"
   ]
  },
  {
   "cell_type": "code",
   "execution_count": 56,
   "metadata": {},
   "outputs": [],
   "source": [
    "from aif360 import datasets\n",
    "# Fairness metrics\n",
    "from aif360.metrics import BinaryLabelDatasetMetric\n",
    "from aif360.metrics import ClassificationMetric\n",
    "\n",
    "# Explainers\n",
    "from aif360.explainers import MetricTextExplainer\n",
    "\n",
    "# Classifiers\n",
    "from sklearn.ensemble import RandomForestClassifier\n",
    "from sklearn.linear_model import LogisticRegression\n",
    "from sklearn.pipeline import make_pipeline"
   ]
  },
  {
   "cell_type": "code",
   "execution_count": 57,
   "metadata": {},
   "outputs": [],
   "source": [
    "#Make the pandas dataframe into a BinaryLabelDataset\n",
    "#Think of this as an annotated data frame that also knows \n",
    "#The attributes that identify the protected group and the attributes \n",
    "#That identify the \"favorable\" outcome\n",
    "#You can have more than one protected attribute (e.g. \"race\", \"gender\",\"age\")\n",
    "binary_aif_health=datasets.BinaryLabelDataset(df=modeling_data,label_names=[\"label\"]\\\n",
    "                                              ,protected_attribute_names=[\"protected\"], favorable_label=1.0)"
   ]
  },
  {
   "cell_type": "code",
   "execution_count": 58,
   "metadata": {},
   "outputs": [],
   "source": [
    "#Each of these should be a list of {\"column-name\":values}\n",
    "#(so you can have multiple columns that denote protected groups and multiple values for each)\n",
    "metric_orig = BinaryLabelDatasetMetric(binary_aif_health,\\\n",
    "        unprivileged_groups=[{\"protected\":1.0}],\\\n",
    "        privileged_groups=[{\"protected\":0.0}])   "
   ]
  },
  {
   "cell_type": "code",
   "execution_count": 59,
   "metadata": {},
   "outputs": [],
   "source": [
    "#An \"explainer\" is an object that can calculate the statistic\n",
    "#And has a text label for each with the formula\n",
    "explainer= MetricTextExplainer(metric_orig)"
   ]
  },
  {
   "cell_type": "code",
   "execution_count": 60,
   "metadata": {},
   "outputs": [
    {
     "name": "stdout",
     "output_type": "stream",
     "text": [
      "Disparate impact (probability of favorable outcome for unprivileged instances / probability of favorable outcome for privileged instances): 0.5164410058027079\n"
     ]
    }
   ],
   "source": [
    "print(explainer.disparate_impact())"
   ]
  },
  {
   "cell_type": "code",
   "execution_count": 61,
   "metadata": {},
   "outputs": [],
   "source": [
    "(health_train,\n",
    " health_val,\n",
    " health_test) = binary_aif_health.split([0.5, 0.8], shuffle=True)"
   ]
  },
  {
   "cell_type": "code",
   "execution_count": 62,
   "metadata": {},
   "outputs": [],
   "source": [
    "model = make_pipeline(LogisticRegression(solver='liblinear', random_state=1))\n",
    "fit_params = {'logisticregression__sample_weight': health_train.instance_weights}\n",
    "\n",
    "lr_health_binary = model.fit(health_train.features, health_train.labels.ravel(), **fit_params)"
   ]
  },
  {
   "cell_type": "code",
   "execution_count": 63,
   "metadata": {},
   "outputs": [],
   "source": [
    "y_val_pred_prob = lr_health_binary.predict_proba(health_val.features)\n",
    "pos_ind = np.where(model.classes_ == health_val.favorable_label)[0][0]"
   ]
  },
  {
   "cell_type": "code",
   "execution_count": 64,
   "metadata": {},
   "outputs": [],
   "source": [
    "threshold = [0.6]\n",
    "y_val_pred = (y_val_pred_prob[:, pos_ind] > threshold).astype(np.float64)"
   ]
  },
  {
   "cell_type": "code",
   "execution_count": 65,
   "metadata": {},
   "outputs": [
    {
     "data": {
      "text/plain": [
       "229.0"
      ]
     },
     "metadata": {},
     "output_type": "display_data"
    },
    {
     "data": {
      "text/plain": [
       "3000"
      ]
     },
     "metadata": {},
     "output_type": "display_data"
    }
   ],
   "source": [
    "display(np.sum(y_val_pred))\n",
    "display(len(y_val_pred))"
   ]
  },
  {
   "cell_type": "code",
   "execution_count": 66,
   "metadata": {},
   "outputs": [
    {
     "data": {
      "text/plain": [
       "'Balanced Access'"
      ]
     },
     "metadata": {},
     "output_type": "display_data"
    },
    {
     "data": {
      "text/plain": [
       "0.8948275862068966"
      ]
     },
     "metadata": {},
     "output_type": "display_data"
    },
    {
     "data": {
      "text/plain": [
       "'Average Odds Difference'"
      ]
     },
     "metadata": {},
     "output_type": "display_data"
    },
    {
     "data": {
      "text/plain": [
       "-0.009661311333043876"
      ]
     },
     "metadata": {},
     "output_type": "display_data"
    },
    {
     "data": {
      "text/plain": [
       "'Disparate Impact'"
      ]
     },
     "metadata": {},
     "output_type": "display_data"
    },
    {
     "data": {
      "text/plain": [
       "0.4544206341184002"
      ]
     },
     "metadata": {},
     "output_type": "display_data"
    },
    {
     "data": {
      "text/plain": [
       "'Statistical Parity'"
      ]
     },
     "metadata": {},
     "output_type": "display_data"
    },
    {
     "data": {
      "text/plain": [
       "-0.0575848315815491"
      ]
     },
     "metadata": {},
     "output_type": "display_data"
    },
    {
     "data": {
      "text/plain": [
       "'Equal Opportunity'"
      ]
     },
     "metadata": {},
     "output_type": "display_data"
    },
    {
     "data": {
      "text/plain": [
       "-0.019322622666087752"
      ]
     },
     "metadata": {},
     "output_type": "display_data"
    },
    {
     "data": {
      "text/plain": [
       "'Theil Index'"
      ]
     },
     "metadata": {},
     "output_type": "display_data"
    },
    {
     "data": {
      "text/plain": [
       "0.02054290123132945"
      ]
     },
     "metadata": {},
     "output_type": "display_data"
    }
   ],
   "source": [
    "dataset_pred = health_val.copy()\n",
    "dataset_pred.labels = y_val_pred\n",
    "metric = ClassificationMetric(\n",
    "        health_val, dataset_pred,\\\n",
    "        unprivileged_groups=[{\"protected\":1.0}],\\\n",
    "        privileged_groups=[{\"protected\":0.0}])\n",
    "\n",
    "display(\"Balanced Access\")\n",
    "display((metric.true_positive_rate()+ metric.true_negative_rate()) / 2)\n",
    "display(\"Average Odds Difference\")\n",
    "display(metric.average_odds_difference())\n",
    "display(\"Disparate Impact\")\n",
    "display(metric.disparate_impact())\n",
    "display(\"Statistical Parity\")\n",
    "display(metric.statistical_parity_difference())\n",
    "display(\"Equal Opportunity\")\n",
    "display(metric.equal_opportunity_difference())\n",
    "display(\"Theil Index\")\n",
    "display(metric.theil_index())"
   ]
  },
  {
   "cell_type": "markdown",
   "metadata": {},
   "source": [
    "These statistics change with your cut-off! \n",
    "See the demonstration here: https://nbviewer.jupyter.org/github/IBM/AIF360/blob/master/examples/tutorial_medical_expenditure.ipynb"
   ]
  },
  {
   "cell_type": "code",
   "execution_count": 67,
   "metadata": {},
   "outputs": [],
   "source": [
    "# Bias mitigation techniques\n",
    "from aif360.algorithms.preprocessing import Reweighing\n",
    "from aif360.algorithms.inprocessing import PrejudiceRemover"
   ]
  },
  {
   "cell_type": "code",
   "execution_count": 68,
   "metadata": {},
   "outputs": [],
   "source": [
    "RW = Reweighing(unprivileged_groups=[{\"protected\":1.0}]\\\n",
    "                ,privileged_groups=[{\"protected\":0.0}])\n",
    "reweighted_health = RW.fit_transform(health_train)"
   ]
  },
  {
   "cell_type": "code",
   "execution_count": 69,
   "metadata": {},
   "outputs": [],
   "source": [
    "reweighted_health_train = BinaryLabelDatasetMetric(\n",
    "        reweighted_health,\n",
    "        unprivileged_groups=[{\"protected\":1.0}],\n",
    "        privileged_groups=[{\"protected\":0.0}])"
   ]
  },
  {
   "cell_type": "code",
   "execution_count": 70,
   "metadata": {},
   "outputs": [],
   "source": [
    "explainer_reweighted = MetricTextExplainer(reweighted_health_train)"
   ]
  },
  {
   "cell_type": "code",
   "execution_count": 71,
   "metadata": {},
   "outputs": [
    {
     "name": "stdout",
     "output_type": "stream",
     "text": [
      "Disparate impact (probability of favorable outcome for unprivileged instances / probability of favorable outcome for privileged instances): 0.9999999999999998\n"
     ]
    }
   ],
   "source": [
    "print(explainer_reweighted.disparate_impact())"
   ]
  },
  {
   "cell_type": "code",
   "execution_count": 72,
   "metadata": {},
   "outputs": [],
   "source": [
    "dataset = reweighted_health\n",
    "model = make_pipeline(LogisticRegression(solver='liblinear', random_state=1))\n",
    "fit_params = {'logisticregression__sample_weight': dataset.instance_weights}\n",
    "lr_health_reweighted = model.fit(dataset.features, dataset.labels.ravel(), **fit_params)"
   ]
  },
  {
   "cell_type": "code",
   "execution_count": 73,
   "metadata": {},
   "outputs": [],
   "source": [
    "y_val_pred_prob = lr_health_reweighted.predict_proba(health_val.features)\n",
    "pos_ind = np.where(model.classes_ == health_val.favorable_label)[0][0]"
   ]
  },
  {
   "cell_type": "code",
   "execution_count": 74,
   "metadata": {},
   "outputs": [
    {
     "data": {
      "text/plain": [
       "229.0"
      ]
     },
     "metadata": {},
     "output_type": "display_data"
    },
    {
     "data": {
      "text/plain": [
       "3000"
      ]
     },
     "metadata": {},
     "output_type": "display_data"
    }
   ],
   "source": [
    "display(np.sum(y_val_pred))\n",
    "display(len(y_val_pred))"
   ]
  },
  {
   "cell_type": "code",
   "execution_count": 75,
   "metadata": {},
   "outputs": [
    {
     "data": {
      "text/plain": [
       "'Balanced Access'"
      ]
     },
     "metadata": {},
     "output_type": "display_data"
    },
    {
     "data": {
      "text/plain": [
       "0.5"
      ]
     },
     "metadata": {},
     "output_type": "display_data"
    },
    {
     "data": {
      "text/plain": [
       "'Average Odds Difference'"
      ]
     },
     "metadata": {},
     "output_type": "display_data"
    },
    {
     "data": {
      "text/plain": [
       "0.0"
      ]
     },
     "metadata": {},
     "output_type": "display_data"
    },
    {
     "data": {
      "text/plain": [
       "'Disparate Impact'"
      ]
     },
     "metadata": {},
     "output_type": "display_data"
    },
    {
     "data": {
      "text/plain": [
       "1.0"
      ]
     },
     "metadata": {},
     "output_type": "display_data"
    },
    {
     "data": {
      "text/plain": [
       "'Statistical Parity'"
      ]
     },
     "metadata": {},
     "output_type": "display_data"
    },
    {
     "data": {
      "text/plain": [
       "0.0"
      ]
     },
     "metadata": {},
     "output_type": "display_data"
    },
    {
     "data": {
      "text/plain": [
       "'Equal Opportunity'"
      ]
     },
     "metadata": {},
     "output_type": "display_data"
    },
    {
     "data": {
      "text/plain": [
       "0.0"
      ]
     },
     "metadata": {},
     "output_type": "display_data"
    },
    {
     "data": {
      "text/plain": [
       "'Theil Index'"
      ]
     },
     "metadata": {},
     "output_type": "display_data"
    },
    {
     "data": {
      "text/plain": [
       "0.014336823430121347"
      ]
     },
     "metadata": {},
     "output_type": "display_data"
    }
   ],
   "source": [
    "dataset_pred = health_val.copy()\n",
    "dataset_pred.labels = pos_ind\n",
    "metric = ClassificationMetric(\n",
    "        health_val, dataset_pred,\\\n",
    "        unprivileged_groups=[{\"protected\":1.0}],\\\n",
    "        privileged_groups=[{\"protected\":0.0}])\n",
    "\n",
    "display(\"Balanced Access\")\n",
    "display((metric.true_positive_rate()+ metric.true_negative_rate()) / 2)\n",
    "display(\"Average Odds Difference\")\n",
    "display(metric.average_odds_difference())\n",
    "display(\"Disparate Impact\")\n",
    "display(metric.disparate_impact())\n",
    "display(\"Statistical Parity\")\n",
    "display(metric.statistical_parity_difference())\n",
    "display(\"Equal Opportunity\")\n",
    "display(metric.equal_opportunity_difference())\n",
    "display(\"Theil Index\")\n",
    "display(metric.theil_index())"
   ]
  },
  {
   "cell_type": "code",
   "execution_count": 76,
   "metadata": {},
   "outputs": [],
   "source": [
    "from witwidget.notebook.visualization import WitConfigBuilder\n",
    "from witwidget.notebook.visualization import WitWidget"
   ]
  },
  {
   "cell_type": "markdown",
   "metadata": {},
   "source": [
    "WIT needs predicted probabilities for the different categories<br>\n",
    "Use the sklearn classifier trained for aif360"
   ]
  },
  {
   "cell_type": "code",
   "execution_count": 77,
   "metadata": {},
   "outputs": [
    {
     "name": "stdout",
     "output_type": "stream",
     "text": [
      "(3300, 6)\n"
     ]
    },
    {
     "data": {
      "text/html": [
       "<div>\n",
       "<style scoped>\n",
       "    .dataframe tbody tr th:only-of-type {\n",
       "        vertical-align: middle;\n",
       "    }\n",
       "\n",
       "    .dataframe tbody tr th {\n",
       "        vertical-align: top;\n",
       "    }\n",
       "\n",
       "    .dataframe thead th {\n",
       "        text-align: right;\n",
       "    }\n",
       "</style>\n",
       "<table border=\"1\" class=\"dataframe\">\n",
       "  <thead>\n",
       "    <tr style=\"text-align: right;\">\n",
       "      <th></th>\n",
       "      <th>predicted</th>\n",
       "      <th>health</th>\n",
       "      <th>membership</th>\n",
       "      <th>cost</th>\n",
       "      <th>prediction</th>\n",
       "      <th>label</th>\n",
       "    </tr>\n",
       "  </thead>\n",
       "  <tbody>\n",
       "    <tr>\n",
       "      <th>0</th>\n",
       "      <td>4.763866</td>\n",
       "      <td>-0.294902</td>\n",
       "      <td>1.0</td>\n",
       "      <td>3.973478</td>\n",
       "      <td>0.0</td>\n",
       "      <td>0.0</td>\n",
       "    </tr>\n",
       "    <tr>\n",
       "      <th>1</th>\n",
       "      <td>5.362654</td>\n",
       "      <td>-0.981143</td>\n",
       "      <td>0.0</td>\n",
       "      <td>6.577934</td>\n",
       "      <td>0.0</td>\n",
       "      <td>1.0</td>\n",
       "    </tr>\n",
       "    <tr>\n",
       "      <th>2</th>\n",
       "      <td>4.742051</td>\n",
       "      <td>-0.269901</td>\n",
       "      <td>1.0</td>\n",
       "      <td>4.519298</td>\n",
       "      <td>0.0</td>\n",
       "      <td>0.0</td>\n",
       "    </tr>\n",
       "    <tr>\n",
       "      <th>3</th>\n",
       "      <td>4.225792</td>\n",
       "      <td>0.321758</td>\n",
       "      <td>1.0</td>\n",
       "      <td>4.288916</td>\n",
       "      <td>0.0</td>\n",
       "      <td>0.0</td>\n",
       "    </tr>\n",
       "    <tr>\n",
       "      <th>4</th>\n",
       "      <td>6.130482</td>\n",
       "      <td>-1.861114</td>\n",
       "      <td>1.0</td>\n",
       "      <td>7.483285</td>\n",
       "      <td>1.0</td>\n",
       "      <td>1.0</td>\n",
       "    </tr>\n",
       "  </tbody>\n",
       "</table>\n",
       "</div>"
      ],
      "text/plain": [
       "   predicted    health  membership      cost  prediction  label\n",
       "0   4.763866 -0.294902         1.0  3.973478         0.0    0.0\n",
       "1   5.362654 -0.981143         0.0  6.577934         0.0    1.0\n",
       "2   4.742051 -0.269901         1.0  4.519298         0.0    0.0\n",
       "3   4.225792  0.321758         1.0  4.288916         0.0    0.0\n",
       "4   6.130482 -1.861114         1.0  7.483285         1.0    1.0"
      ]
     },
     "execution_count": 77,
     "metadata": {},
     "output_type": "execute_result"
    }
   ],
   "source": [
    "print(test_output.shape)\n",
    "test_output.head()"
   ]
  },
  {
   "cell_type": "code",
   "execution_count": 78,
   "metadata": {},
   "outputs": [
    {
     "data": {
      "text/plain": [
       "3000"
      ]
     },
     "execution_count": 78,
     "metadata": {},
     "output_type": "execute_result"
    }
   ],
   "source": [
    "len(y_val_pred_prob)"
   ]
  },
  {
   "cell_type": "code",
   "execution_count": 79,
   "metadata": {},
   "outputs": [
    {
     "data": {
      "text/plain": [
       "3300"
      ]
     },
     "execution_count": 79,
     "metadata": {},
     "output_type": "execute_result"
    }
   ],
   "source": [
    "output_for_config=test_output[[\"health\",\"membership\",\"cost\",\"label\"]].values.tolist()\n",
    "len(output_for_config)"
   ]
  },
  {
   "cell_type": "code",
   "execution_count": 80,
   "metadata": {},
   "outputs": [
    {
     "data": {
      "text/html": [
       "<div>\n",
       "<style scoped>\n",
       "    .dataframe tbody tr th:only-of-type {\n",
       "        vertical-align: middle;\n",
       "    }\n",
       "\n",
       "    .dataframe tbody tr th {\n",
       "        vertical-align: top;\n",
       "    }\n",
       "\n",
       "    .dataframe thead th {\n",
       "        text-align: right;\n",
       "    }\n",
       "</style>\n",
       "<table border=\"1\" class=\"dataframe\">\n",
       "  <thead>\n",
       "    <tr style=\"text-align: right;\">\n",
       "      <th></th>\n",
       "      <th>cost</th>\n",
       "      <th>health</th>\n",
       "      <th>protected</th>\n",
       "      <th>label</th>\n",
       "    </tr>\n",
       "  </thead>\n",
       "  <tbody>\n",
       "    <tr>\n",
       "      <th>5078</th>\n",
       "      <td>5.830812</td>\n",
       "      <td>-1.197620</td>\n",
       "      <td>0.0</td>\n",
       "      <td>0.0</td>\n",
       "    </tr>\n",
       "    <tr>\n",
       "      <th>7825</th>\n",
       "      <td>5.620227</td>\n",
       "      <td>0.045344</td>\n",
       "      <td>0.0</td>\n",
       "      <td>0.0</td>\n",
       "    </tr>\n",
       "    <tr>\n",
       "      <th>7908</th>\n",
       "      <td>6.687330</td>\n",
       "      <td>-0.655154</td>\n",
       "      <td>0.0</td>\n",
       "      <td>1.0</td>\n",
       "    </tr>\n",
       "    <tr>\n",
       "      <th>3428</th>\n",
       "      <td>6.716380</td>\n",
       "      <td>-0.719121</td>\n",
       "      <td>0.0</td>\n",
       "      <td>1.0</td>\n",
       "    </tr>\n",
       "    <tr>\n",
       "      <th>174</th>\n",
       "      <td>6.543030</td>\n",
       "      <td>-1.215784</td>\n",
       "      <td>1.0</td>\n",
       "      <td>1.0</td>\n",
       "    </tr>\n",
       "    <tr>\n",
       "      <th>...</th>\n",
       "      <td>...</td>\n",
       "      <td>...</td>\n",
       "      <td>...</td>\n",
       "      <td>...</td>\n",
       "    </tr>\n",
       "    <tr>\n",
       "      <th>8336</th>\n",
       "      <td>3.642508</td>\n",
       "      <td>0.778296</td>\n",
       "      <td>1.0</td>\n",
       "      <td>0.0</td>\n",
       "    </tr>\n",
       "    <tr>\n",
       "      <th>1603</th>\n",
       "      <td>8.089152</td>\n",
       "      <td>-2.544459</td>\n",
       "      <td>0.0</td>\n",
       "      <td>1.0</td>\n",
       "    </tr>\n",
       "    <tr>\n",
       "      <th>9355</th>\n",
       "      <td>2.958172</td>\n",
       "      <td>-0.681220</td>\n",
       "      <td>1.0</td>\n",
       "      <td>0.0</td>\n",
       "    </tr>\n",
       "    <tr>\n",
       "      <th>684</th>\n",
       "      <td>6.952022</td>\n",
       "      <td>-1.631614</td>\n",
       "      <td>1.0</td>\n",
       "      <td>1.0</td>\n",
       "    </tr>\n",
       "    <tr>\n",
       "      <th>5850</th>\n",
       "      <td>3.816034</td>\n",
       "      <td>0.154812</td>\n",
       "      <td>0.0</td>\n",
       "      <td>0.0</td>\n",
       "    </tr>\n",
       "  </tbody>\n",
       "</table>\n",
       "<p>3000 rows × 4 columns</p>\n",
       "</div>"
      ],
      "text/plain": [
       "          cost    health  protected  label\n",
       "5078  5.830812 -1.197620        0.0    0.0\n",
       "7825  5.620227  0.045344        0.0    0.0\n",
       "7908  6.687330 -0.655154        0.0    1.0\n",
       "3428  6.716380 -0.719121        0.0    1.0\n",
       "174   6.543030 -1.215784        1.0    1.0\n",
       "...        ...       ...        ...    ...\n",
       "8336  3.642508  0.778296        1.0    0.0\n",
       "1603  8.089152 -2.544459        0.0    1.0\n",
       "9355  2.958172 -0.681220        1.0    0.0\n",
       "684   6.952022 -1.631614        1.0    1.0\n",
       "5850  3.816034  0.154812        0.0    0.0\n",
       "\n",
       "[3000 rows x 4 columns]"
      ]
     },
     "execution_count": 80,
     "metadata": {},
     "output_type": "execute_result"
    }
   ],
   "source": [
    "health_val.convert_to_dataframe()[0]"
   ]
  },
  {
   "cell_type": "code",
   "execution_count": 81,
   "metadata": {},
   "outputs": [],
   "source": [
    "features_df=health_val.convert_to_dataframe()[0][[\"cost\",\"health\",\"protected\",\"label\"]]\n",
    "features_list=features_df.values.tolist()"
   ]
  },
  {
   "cell_type": "code",
   "execution_count": null,
   "metadata": {},
   "outputs": [],
   "source": [
    "config_builder=WitConfigBuilder(features_list\\\n",
    "        ,feature_names=[\"cost\",\"health\",\"protected\",\"label\"])\n",
    "WitWidget(config_builder)"
   ]
  },
  {
   "cell_type": "code",
   "execution_count": 83,
   "metadata": {},
   "outputs": [
    {
     "data": {
      "text/html": [
       "<div>\n",
       "<style scoped>\n",
       "    .dataframe tbody tr th:only-of-type {\n",
       "        vertical-align: middle;\n",
       "    }\n",
       "\n",
       "    .dataframe tbody tr th {\n",
       "        vertical-align: top;\n",
       "    }\n",
       "\n",
       "    .dataframe thead th {\n",
       "        text-align: right;\n",
       "    }\n",
       "</style>\n",
       "<table border=\"1\" class=\"dataframe\">\n",
       "  <thead>\n",
       "    <tr style=\"text-align: right;\">\n",
       "      <th></th>\n",
       "      <th>cost</th>\n",
       "      <th>health</th>\n",
       "      <th>protected</th>\n",
       "      <th>label</th>\n",
       "    </tr>\n",
       "  </thead>\n",
       "  <tbody>\n",
       "    <tr>\n",
       "      <th>0</th>\n",
       "      <td>4.536895</td>\n",
       "      <td>-1.138142</td>\n",
       "      <td>1.0</td>\n",
       "      <td>0.0</td>\n",
       "    </tr>\n",
       "    <tr>\n",
       "      <th>1</th>\n",
       "      <td>5.871731</td>\n",
       "      <td>-0.370133</td>\n",
       "      <td>0.0</td>\n",
       "      <td>0.0</td>\n",
       "    </tr>\n",
       "    <tr>\n",
       "      <th>2</th>\n",
       "      <td>5.827863</td>\n",
       "      <td>-1.362753</td>\n",
       "      <td>0.0</td>\n",
       "      <td>0.0</td>\n",
       "    </tr>\n",
       "    <tr>\n",
       "      <th>3</th>\n",
       "      <td>4.440527</td>\n",
       "      <td>0.488135</td>\n",
       "      <td>1.0</td>\n",
       "      <td>0.0</td>\n",
       "    </tr>\n",
       "    <tr>\n",
       "      <th>4</th>\n",
       "      <td>3.647684</td>\n",
       "      <td>-0.859616</td>\n",
       "      <td>1.0</td>\n",
       "      <td>0.0</td>\n",
       "    </tr>\n",
       "  </tbody>\n",
       "</table>\n",
       "</div>"
      ],
      "text/plain": [
       "       cost    health  protected  label\n",
       "0  4.536895 -1.138142        1.0    0.0\n",
       "1  5.871731 -0.370133        0.0    0.0\n",
       "2  5.827863 -1.362753        0.0    0.0\n",
       "3  4.440527  0.488135        1.0    0.0\n",
       "4  3.647684 -0.859616        1.0    0.0"
      ]
     },
     "execution_count": 83,
     "metadata": {},
     "output_type": "execute_result"
    }
   ],
   "source": [
    "modeling_data.head()"
   ]
  },
  {
   "cell_type": "markdown",
   "metadata": {},
   "source": [
    "# But Wait--What if We Had Done This Differently?"
   ]
  },
  {
   "cell_type": "code",
   "execution_count": 84,
   "metadata": {},
   "outputs": [
    {
     "data": {
      "image/png": "[encoded data removed]",
      "text/plain": [
       "<Figure size 432x288 with 1 Axes>"
      ]
     },
     "metadata": {
      "needs_background": "light"
     },
     "output_type": "display_data"
    }
   ],
   "source": [
    "fig, ax = plt.subplots()\n",
    "sns.distplot(modeling_data[modeling_data[\"label\"].astype(bool)][\"cost\"], ax=ax, kde=False,label=\"High Cost\")\n",
    "sns.distplot(modeling_data[~(modeling_data[\"label\"].astype(bool))][\"cost\"], ax=ax, kde=False,label=\"Not High Cost\")\n",
    "ax.legend()\n",
    "ax.set_title(\"Healthcare Costs by Training Label\")\n",
    "plt.show()"
   ]
  },
  {
   "cell_type": "code",
   "execution_count": 85,
   "metadata": {},
   "outputs": [
    {
     "data": {
      "image/png": "[encoded data removed]",
      "text/plain": [
       "<Figure size 432x288 with 1 Axes>"
      ]
     },
     "metadata": {
      "needs_background": "light"
     },
     "output_type": "display_data"
    }
   ],
   "source": [
    "fig, ax = plt.subplots()\n",
    "sns.distplot(modeling_data[modeling_data[\"label\"].astype(bool)][\"health\"], ax=ax, kde=False,label=\"High Cost\")\n",
    "sns.distplot(modeling_data[~(modeling_data[\"label\"].astype(bool))][\"health\"], ax=ax, kde=False,label=\"Not High Cost\")\n",
    "ax.legend()\n",
    "ax.set_title(\"Health Measures  by Training Label\")\n",
    "plt.show()"
   ]
  },
  {
   "cell_type": "markdown",
   "metadata": {},
   "source": [
    "By simple inspection, <b>the sickest people are not the most expensive</b>. <br>\n",
    "And if that's the case, assigning people to a health improvement program to lower costs is not going to have the expected business outcome.<br>\n",
    "<br>\n",
    "This model fails twice--it's biased, and it doesn't lower costs!"
   ]
  }
 ],
 "metadata": {
  "kernelspec": {
   "display_name": "Python 3 (ipykernel)",
   "language": "python",
   "name": "python3"
  },
  "language_info": {
   "codemirror_mode": {
    "name": "ipython",
    "version": 3
   },
   "file_extension": ".py",
   "mimetype": "text/x-python",
   "name": "python",
   "nbconvert_exporter": "python",
   "pygments_lexer": "ipython3",
   "version": "3.9.6"
  }
 },
 "nbformat": 4,
 "nbformat_minor": 4
}
